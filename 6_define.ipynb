{
 "cells": [
  {
   "cell_type": "markdown",
   "metadata": {},
   "source": [
    "함수 키워드는 def입니다 (define의 약자)\n",
    "\n",
    "* 파이썬 함수가 자바의 메소드보다 편한점\n",
    "- 반환 타입이 없는 메소드(자바) <br>\n",
    "public void 메소드명(매개변수){실행코드}\n",
    "- 반환 타입이 있는 메소드(자바) <br>\n",
    "public int 메소드명(매개변수){실행 코드 return 정수형 변수}\n",
    "\n",
    "--------------------파이썬---------------------<br>\n",
    "반환 타입을 안써도 됩니다."
   ]
  },
  {
   "cell_type": "code",
   "execution_count": 3,
   "metadata": {},
   "outputs": [
    {
     "data": {
      "text/plain": [
       "22"
      ]
     },
     "execution_count": 3,
     "metadata": {},
     "output_type": "execute_result"
    }
   ],
   "source": [
    "#매개변수 2개를 받아 더한 값을 return해주는 함수\n",
    "\n",
    "sum_number(10,12)"
   ]
  },
  {
   "cell_type": "code",
   "execution_count": 4,
   "metadata": {},
   "outputs": [],
   "source": [
    "def sum_number(num1,num2): #함수키워드(def) 함수명(sum_number) 매개변수(num1,num2)\n",
    "    result = num1 + num2\n",
    "    return result"
   ]
  },
  {
   "cell_type": "markdown",
   "metadata": {},
   "source": [
    "# 실습문제"
   ]
  },
  {
   "cell_type": "code",
   "execution_count": 17,
   "metadata": {},
   "outputs": [
    {
     "name": "stdout",
     "output_type": "stream",
     "text": [
      "첫 번째 정수 입력 >> 10\n",
      "두 번째 정수 입력 >> 3\n",
      "7\n"
     ]
    }
   ],
   "source": [
    "num1 = int(input('첫 번째 정수 입력 >> '))\n",
    "num2 = int(input('두 번째 정수 입력 >> '))\n",
    "result = minus_number(num1,num2)\n",
    "print(result)"
   ]
  },
  {
   "cell_type": "code",
   "execution_count": 18,
   "metadata": {},
   "outputs": [],
   "source": [
    "#1번 방법\n",
    "def minus_number(num1,num2):\n",
    "    result = num1 - num2\n",
    "    return result\n",
    "\n",
    "#2번 방법\n",
    "#def minus_number(num1,num2):\n",
    "#    return num1-num2\n",
    "\n",
    "#3번 방법\n",
    "#def minus_number(num1,num2):\n",
    "#    if num1<num2:\n",
    "#        result = num2 - num1\n",
    "#    elif num1>num2:\n",
    "#        result = num1-num2\n",
    "#    return result "
   ]
  },
  {
   "cell_type": "markdown",
   "metadata": {},
   "source": [
    "##### 연산"
   ]
  },
  {
   "cell_type": "code",
   "execution_count": 28,
   "metadata": {},
   "outputs": [
    {
     "name": "stdout",
     "output_type": "stream",
     "text": [
      "첫 번째 정수 입력 >> 5\n",
      "두 번째 정수 입력 >> 10\n",
      "연산자 입력(+,-) >> -\n",
      "결과 : -5\n"
     ]
    }
   ],
   "source": [
    "num1 = int(input('첫 번째 정수 입력 >> '))\n",
    "num2 = int(input('두 번째 정수 입력 >> '))\n",
    "op = input(\"연산자 입력(+,-) >> \")\n",
    "result = cal(num1, num2, op)\n",
    "print('결과 : {}'.format(result))"
   ]
  },
  {
   "cell_type": "code",
   "execution_count": 26,
   "metadata": {},
   "outputs": [],
   "source": [
    "def cal(n1,n2,o):\n",
    "    #함수 설명 달기 --> 독스트링(docstring)\n",
    "    \"\"\"덧셈 뺄셈 입력 받아 계산 하는 함수\"\"\"\n",
    "    if op == '+':\n",
    "        return num1+num2\n",
    "    elif op == '-':\n",
    "        return num1-num2"
   ]
  },
  {
   "cell_type": "markdown",
   "metadata": {},
   "source": [
    "##### 약수"
   ]
  },
  {
   "cell_type": "code",
   "execution_count": 38,
   "metadata": {
    "scrolled": true
   },
   "outputs": [
    {
     "name": "stdout",
     "output_type": "stream",
     "text": [
      "1 2 4 8 16 32 "
     ]
    }
   ],
   "source": [
    "divisor(32)"
   ]
  },
  {
   "cell_type": "code",
   "execution_count": 52,
   "metadata": {},
   "outputs": [],
   "source": [
    "def divisor(num):\n",
    "    for i in range(1,num+1,1):\n",
    "        if num%i == 0:\n",
    "            print(i,end=' ')"
   ]
  },
  {
   "cell_type": "code",
   "execution_count": 83,
   "metadata": {
    "scrolled": true
   },
   "outputs": [
    {
     "name": "stdout",
     "output_type": "stream",
     "text": [
      "startValue =10\n",
      "endValue = 36\n",
      "10의 약수 : 1 2 5 10 \n",
      "11의 약수 : 1 11 \n",
      "12의 약수 : 1 2 3 4 6 12 \n",
      "13의 약수 : 1 13 \n",
      "14의 약수 : 1 2 7 14 \n",
      "15의 약수 : 1 3 5 15 \n",
      "16의 약수 : 1 2 4 8 16 \n",
      "17의 약수 : 1 17 \n",
      "18의 약수 : 1 2 3 6 9 18 \n",
      "19의 약수 : 1 19 \n",
      "20의 약수 : 1 2 4 5 10 20 \n",
      "21의 약수 : 1 3 7 21 \n",
      "22의 약수 : 1 2 11 22 \n",
      "23의 약수 : 1 23 \n",
      "24의 약수 : 1 2 3 4 6 8 12 24 \n",
      "25의 약수 : 1 5 25 \n",
      "26의 약수 : 1 2 13 26 \n",
      "27의 약수 : 1 3 9 27 \n",
      "28의 약수 : 1 2 4 7 14 28 \n",
      "29의 약수 : 1 29 \n",
      "30의 약수 : 1 2 3 5 6 10 15 30 \n",
      "31의 약수 : 1 31 \n",
      "32의 약수 : 1 2 4 8 16 32 \n",
      "33의 약수 : 1 3 11 33 \n",
      "34의 약수 : 1 2 17 34 \n",
      "35의 약수 : 1 5 7 35 \n",
      "36의 약수 : 1 2 3 4 6 9 12 18 36 \n"
     ]
    }
   ],
   "source": [
    "num1 = int(input('startValue ='))\n",
    "num2 = int(input('endValue = '))\n",
    "getDivisors1(num1, num2)"
   ]
  },
  {
   "cell_type": "code",
   "execution_count": 80,
   "metadata": {},
   "outputs": [],
   "source": [
    "def getDivisors(n1,n2):\n",
    "    for i in range(n1,n2+1,1):\n",
    "        print('{}의 약수 : '.format(i),end='')\n",
    "        for j in range(1,i+1,1):\n",
    "            if i%j == 0:\n",
    "                print(j, end = ' ')\n",
    "        print()"
   ]
  },
  {
   "cell_type": "code",
   "execution_count": 82,
   "metadata": {},
   "outputs": [],
   "source": [
    "def getDivisors1(n1,n2):\n",
    "    for i in range(n1,n2+1,1):\n",
    "        print('{}의 약수 : '.format(i),end='')\n",
    "        divisor(i)\n",
    "        print()\n",
    "#재귀함수 : 함수 안에 함수가 무한반복으로"
   ]
  },
  {
   "cell_type": "markdown",
   "metadata": {},
   "source": [
    "##### 완전수"
   ]
  },
  {
   "cell_type": "code",
   "execution_count": 67,
   "metadata": {},
   "outputs": [],
   "source": [
    "def perfect(num):\n",
    "    sum = 0\n",
    "    for i in range(1,num,1):\n",
    "        if num%i == 0:\n",
    "            sum += i\n",
    "    if sum == num:\n",
    "        print('{}은(는) 완전수 입니다.'.format(num))\n",
    "    else:\n",
    "        print('{}은(는) 완전수가 아닙니다.'.format(num))"
   ]
  },
  {
   "cell_type": "code",
   "execution_count": 68,
   "metadata": {},
   "outputs": [
    {
     "name": "stdout",
     "output_type": "stream",
     "text": [
      "숫자 입력 : 256\n",
      "256은(는) 완전수가 아닙니다.\n"
     ]
    }
   ],
   "source": [
    "num = int(input('숫자 입력 : '))\n",
    "perfect(num)"
   ]
  },
  {
   "cell_type": "code",
   "execution_count": 91,
   "metadata": {},
   "outputs": [
    {
     "name": "stdout",
     "output_type": "stream",
     "text": [
      "시작 값 : 1\n",
      "끝 값 : 10000\n",
      "1과(와) 10000 사이의 완전수\n",
      "6 28 496 8128 "
     ]
    }
   ],
   "source": [
    "num1 = int(input('시작 값 : '))\n",
    "num2 = int(input('끝 값 : '))\n",
    "\n",
    "perfect1(num1,num2)"
   ]
  },
  {
   "cell_type": "code",
   "execution_count": 87,
   "metadata": {},
   "outputs": [],
   "source": [
    "def perfect1(n1,n2):\n",
    "    print('{}과(와) {} 사이의 완전수'.format(n1,n2))\n",
    "    for i in range(n1, n2+1,1):\n",
    "        sum = 0\n",
    "        for j in range(1,i,1):\n",
    "            if i%j == 0:\n",
    "                sum += j\n",
    "        if sum == i:\n",
    "            print(i,end = ' ')\n",
    "    "
   ]
  },
  {
   "cell_type": "code",
   "execution_count": 94,
   "metadata": {},
   "outputs": [],
   "source": [
    "#가변 매개변수를 가진 함수\n",
    "#def 함수명 (* 매개변수명)\n",
    "def sum_all(*args): #arguments의 약자\n",
    "    sum = 0\n",
    "    for i in args:\n",
    "        sum += i\n",
    "    return sum\n",
    "    print(args)"
   ]
  },
  {
   "cell_type": "code",
   "execution_count": 95,
   "metadata": {},
   "outputs": [
    {
     "data": {
      "text/plain": [
       "32"
      ]
     },
     "execution_count": 95,
     "metadata": {},
     "output_type": "execute_result"
    }
   ],
   "source": [
    "sum_all(1,2,3,4,5,6,11) #튜플형태로 저장"
   ]
  },
  {
   "cell_type": "code",
   "execution_count": null,
   "metadata": {},
   "outputs": [],
   "source": []
  },
  {
   "cell_type": "code",
   "execution_count": null,
   "metadata": {},
   "outputs": [],
   "source": []
  }
 ],
 "metadata": {
  "kernelspec": {
   "display_name": "Python 3",
   "language": "python",
   "name": "python3"
  },
  "language_info": {
   "codemirror_mode": {
    "name": "ipython",
    "version": 3
   },
   "file_extension": ".py",
   "mimetype": "text/x-python",
   "name": "python",
   "nbconvert_exporter": "python",
   "pygments_lexer": "ipython3",
   "version": "3.8.3"
  }
 },
 "nbformat": 4,
 "nbformat_minor": 4
}
