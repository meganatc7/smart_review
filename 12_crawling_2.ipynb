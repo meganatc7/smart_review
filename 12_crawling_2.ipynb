{
 "cells": [
  {
   "cell_type": "markdown",
   "id": "cardiac-suite",
   "metadata": {},
   "source": [
    "# 영화 순위 정보 수집"
   ]
  },
  {
   "cell_type": "code",
   "execution_count": 8,
   "id": "independent-manitoba",
   "metadata": {},
   "outputs": [],
   "source": [
    "import numpy as np\n",
    "import pandas as pd\n",
    "\n",
    "import requests as req\n",
    "from bs4 import BeautifulSoup as bs\n",
    "from tqdm import tqdm_notebook\n",
    "\n",
    "import matplotlib.pyplot as plt\n",
    "import seaborn as sns\n",
    "\n",
    "%matplotlib inline"
   ]
  },
  {
   "cell_type": "code",
   "execution_count": 12,
   "id": "naughty-police",
   "metadata": {},
   "outputs": [],
   "source": [
    "url = 'https://movie.naver.com/movie/sdb/rank/rmovie.nhn?sel=cur&date=20210211'\n",
    "res = req.get(url)\n",
    "\n",
    "soup = bs(res.text,'html.parser')"
   ]
  },
  {
   "cell_type": "code",
   "execution_count": 25,
   "id": "greater-solution",
   "metadata": {},
   "outputs": [
    {
     "name": "stdout",
     "output_type": "stream",
     "text": [
      "그린 북\n",
      "9.59\n",
      "42\n",
      "42\n"
     ]
    }
   ],
   "source": [
    "title = soup.select('.tit5 > a')\n",
    "point = soup.select('.point')\n",
    "\n",
    "print(title[0].text)\n",
    "print(point[0].text)\n",
    "\n",
    "print(len(title))\n",
    "print(len(point))"
   ]
  },
  {
   "cell_type": "code",
   "execution_count": 26,
   "id": "lightweight-transsexual",
   "metadata": {},
   "outputs": [],
   "source": [
    "point_list = []\n",
    "title_list = []\n",
    "rank_list = []\n",
    "rank = 1\n",
    "\n",
    "# 가져온 영화와 평점 목록을 리스트에 텍스트만 차례로 삽입\n",
    "for idx in range(len(title)):\n",
    "    title_list.append(title[idx].text)\n",
    "    point_list.append(point[idx].text)\n",
    "    rank_list.append(rank)\n",
    "    rank += 1"
   ]
  },
  {
   "cell_type": "code",
   "execution_count": 28,
   "id": "fatty-percentage",
   "metadata": {
    "collapsed": true
   },
   "outputs": [
    {
     "data": {
      "text/plain": [
       "['그린 북',\n",
       " '원더',\n",
       " '극장판 바이올렛 에버가든',\n",
       " '부활: 그 증거',\n",
       " '서유기 2 - 선리기연',\n",
       " '소울',\n",
       " '늑대와 춤을',\n",
       " '페이트 스테이 나이트 헤븐즈필 III.스프링 송',\n",
       " '서유기 - 월광보합',\n",
       " '극장판 귀멸의 칼날: 무한열차편',\n",
       " '해피 투게더',\n",
       " '러브레터',\n",
       " '타오르는 여인의 초상',\n",
       " '굿바이',\n",
       " '남매의 여름밤',\n",
       " '러브 액츄얼리',\n",
       " '스포트라이트',\n",
       " '이별의 아침에 약속의 꽃을 장식하자',\n",
       " '작은 아씨들',\n",
       " '족벌 두 신문 이야기',\n",
       " '너의 이름은.',\n",
       " '화양연화',\n",
       " '찬실이는 복도 많지',\n",
       " '맨체스터 바이 더 씨',\n",
       " '캐롤',\n",
       " '백엔의 사랑',\n",
       " '아비정전',\n",
       " '세자매',\n",
       " '너의 췌장을 먹고 싶어',\n",
       " '초속5센티미터',\n",
       " '콜드 워',\n",
       " '하나와 앨리스',\n",
       " '너의 췌장을 먹고 싶어',\n",
       " '어니스트 씨프',\n",
       " '더 울프 오브 월 스트리트',\n",
       " '일대종사',\n",
       " '해리 포터와 불의 잔',\n",
       " '날씨의 아이',\n",
       " '안녕, 티라노: 영원히, 함께',\n",
       " '명탐정 코난: 진홍의 수학여행',\n",
       " '도굴',\n",
       " '쏘아올린 불꽃, 밑에서 볼까? 옆에서 볼까?']"
      ]
     },
     "execution_count": 28,
     "metadata": {},
     "output_type": "execute_result"
    }
   ],
   "source": [
    "point_list\n",
    "title_list"
   ]
  },
  {
   "cell_type": "code",
   "execution_count": 30,
   "id": "excess-aurora",
   "metadata": {},
   "outputs": [
    {
     "data": {
      "text/html": [
       "<div>\n",
       "<style scoped>\n",
       "    .dataframe tbody tr th:only-of-type {\n",
       "        vertical-align: middle;\n",
       "    }\n",
       "\n",
       "    .dataframe tbody tr th {\n",
       "        vertical-align: top;\n",
       "    }\n",
       "\n",
       "    .dataframe thead th {\n",
       "        text-align: right;\n",
       "    }\n",
       "</style>\n",
       "<table border=\"1\" class=\"dataframe\">\n",
       "  <thead>\n",
       "    <tr style=\"text-align: right;\">\n",
       "      <th></th>\n",
       "      <th>제목</th>\n",
       "      <th>평점</th>\n",
       "    </tr>\n",
       "    <tr>\n",
       "      <th>순위</th>\n",
       "      <th></th>\n",
       "      <th></th>\n",
       "    </tr>\n",
       "  </thead>\n",
       "  <tbody>\n",
       "    <tr>\n",
       "      <th>1</th>\n",
       "      <td>그린 북</td>\n",
       "      <td>9.59</td>\n",
       "    </tr>\n",
       "    <tr>\n",
       "      <th>2</th>\n",
       "      <td>원더</td>\n",
       "      <td>9.51</td>\n",
       "    </tr>\n",
       "    <tr>\n",
       "      <th>3</th>\n",
       "      <td>극장판 바이올렛 에버가든</td>\n",
       "      <td>9.50</td>\n",
       "    </tr>\n",
       "    <tr>\n",
       "      <th>4</th>\n",
       "      <td>부활: 그 증거</td>\n",
       "      <td>9.36</td>\n",
       "    </tr>\n",
       "    <tr>\n",
       "      <th>5</th>\n",
       "      <td>서유기 2 - 선리기연</td>\n",
       "      <td>9.36</td>\n",
       "    </tr>\n",
       "  </tbody>\n",
       "</table>\n",
       "</div>"
      ],
      "text/plain": [
       "               제목    평점\n",
       "순위                     \n",
       "1            그린 북  9.59\n",
       "2              원더  9.51\n",
       "3   극장판 바이올렛 에버가든  9.50\n",
       "4        부활: 그 증거  9.36\n",
       "5    서유기 2 - 선리기연  9.36"
      ]
     },
     "execution_count": 30,
     "metadata": {},
     "output_type": "execute_result"
    }
   ],
   "source": [
    "# 데이터 프레임 형태로 나타내기\n",
    "movie_info = {\n",
    "    '순위': rank_list,\n",
    "    '제목': title_list,\n",
    "    '평점': point_list,\n",
    "}\n",
    "movie = pd.DataFrame(movie_info)\n",
    "movie.set_index('순위',inplace=True)\n",
    "movie.head()"
   ]
  },
  {
   "cell_type": "code",
   "execution_count": 31,
   "id": "prerequisite-clinton",
   "metadata": {},
   "outputs": [],
   "source": [
    "# csv파일로 저장\n",
    "movie.to_csv('data/naver_movie_info.csv',encoding='utf-8')"
   ]
  },
  {
   "cell_type": "code",
   "execution_count": 38,
   "id": "blessed-illinois",
   "metadata": {
    "scrolled": true
   },
   "outputs": [
    {
     "data": {
      "text/html": [
       "<div>\n",
       "<style scoped>\n",
       "    .dataframe tbody tr th:only-of-type {\n",
       "        vertical-align: middle;\n",
       "    }\n",
       "\n",
       "    .dataframe tbody tr th {\n",
       "        vertical-align: top;\n",
       "    }\n",
       "\n",
       "    .dataframe thead th {\n",
       "        text-align: right;\n",
       "    }\n",
       "</style>\n",
       "<table border=\"1\" class=\"dataframe\">\n",
       "  <thead>\n",
       "    <tr style=\"text-align: right;\">\n",
       "      <th></th>\n",
       "      <th>제목</th>\n",
       "      <th>평점</th>\n",
       "    </tr>\n",
       "    <tr>\n",
       "      <th>순위</th>\n",
       "      <th></th>\n",
       "      <th></th>\n",
       "    </tr>\n",
       "  </thead>\n",
       "  <tbody>\n",
       "    <tr>\n",
       "      <th>1</th>\n",
       "      <td>그린 북</td>\n",
       "      <td>9.59</td>\n",
       "    </tr>\n",
       "    <tr>\n",
       "      <th>2</th>\n",
       "      <td>원더</td>\n",
       "      <td>9.51</td>\n",
       "    </tr>\n",
       "    <tr>\n",
       "      <th>3</th>\n",
       "      <td>극장판 바이올렛 에버가든</td>\n",
       "      <td>9.50</td>\n",
       "    </tr>\n",
       "    <tr>\n",
       "      <th>4</th>\n",
       "      <td>부활: 그 증거</td>\n",
       "      <td>9.36</td>\n",
       "    </tr>\n",
       "    <tr>\n",
       "      <th>5</th>\n",
       "      <td>서유기 2 - 선리기연</td>\n",
       "      <td>9.36</td>\n",
       "    </tr>\n",
       "  </tbody>\n",
       "</table>\n",
       "</div>"
      ],
      "text/plain": [
       "               제목    평점\n",
       "순위                     \n",
       "1            그린 북  9.59\n",
       "2              원더  9.51\n",
       "3   극장판 바이올렛 에버가든  9.50\n",
       "4        부활: 그 증거  9.36\n",
       "5    서유기 2 - 선리기연  9.36"
      ]
     },
     "execution_count": 38,
     "metadata": {},
     "output_type": "execute_result"
    }
   ],
   "source": [
    "# 다시 파일 가져오기 해보기~\n",
    "movie = pd.read_csv('data/naver_movie_info.csv', encoding='utf-8')\n",
    "movie.set_index('순위',inplace=True)\n",
    "\n",
    "movie.head()"
   ]
  },
  {
   "cell_type": "markdown",
   "id": "proprietary-killer",
   "metadata": {},
   "source": [
    "# Pandas를 활용한 날짜 생성"
   ]
  },
  {
   "cell_type": "code",
   "execution_count": 44,
   "id": "returning-software",
   "metadata": {},
   "outputs": [
    {
     "data": {
      "text/plain": [
       "['20210201',\n",
       " '20210202',\n",
       " '20210203',\n",
       " '20210204',\n",
       " '20210205',\n",
       " '20210206',\n",
       " '20210207',\n",
       " '20210208',\n",
       " '20210209',\n",
       " '20210210',\n",
       " '20210211',\n",
       " '20210212']"
      ]
     },
     "execution_count": 44,
     "metadata": {},
     "output_type": "execute_result"
    }
   ],
   "source": [
    "\"\"\"시작 날짜와 끝나는 날짜\"\"\"\n",
    "date = pd.date_range('20210201','20210212', freq='d')\n",
    "\n",
    "\"\"\"날씨의 형식 변환 : strftime(\"%Y%m%d\")\"\"\"\n",
    "day_list = []\n",
    "\n",
    "for day in date:\n",
    "    day_list.append(day.strftime('%Y%m%d'))\n",
    "\n",
    "day_list"
   ]
  },
  {
   "cell_type": "markdown",
   "id": "wireless-transmission",
   "metadata": {},
   "source": [
    "# 날짜별 영화 평점 수집"
   ]
  },
  {
   "cell_type": "code",
   "execution_count": 50,
   "id": "contained-introduction",
   "metadata": {},
   "outputs": [],
   "source": [
    "movie_date = []\n",
    "movie_title = []\n",
    "movie_rate = []\n",
    "\n",
    "for day in day_list:\n",
    "    # 영화 페이지 접근\n",
    "    url = 'https://movie.naver.com/movie/sdb/rank/rmovie.nhn?sel=cur&date='+day\n",
    "    res = req.get(url)\n",
    "    soup = bs(res.text,'html.parser')\n",
    "    \n",
    "    title = soup.select('.tit5 > a')\n",
    "    rate = soup.select('.point')\n",
    "    \n",
    "    for t, r in zip(title, rate):\n",
    "        movie_date.append(day)\n",
    "        movie_title.append(t.text)\n",
    "        movie_rate.append(r.text)"
   ]
  },
  {
   "cell_type": "code",
   "execution_count": 52,
   "id": "cubic-luther",
   "metadata": {},
   "outputs": [
    {
     "data": {
      "text/html": [
       "<div>\n",
       "<style scoped>\n",
       "    .dataframe tbody tr th:only-of-type {\n",
       "        vertical-align: middle;\n",
       "    }\n",
       "\n",
       "    .dataframe tbody tr th {\n",
       "        vertical-align: top;\n",
       "    }\n",
       "\n",
       "    .dataframe thead th {\n",
       "        text-align: right;\n",
       "    }\n",
       "</style>\n",
       "<table border=\"1\" class=\"dataframe\">\n",
       "  <thead>\n",
       "    <tr style=\"text-align: right;\">\n",
       "      <th></th>\n",
       "      <th>날짜</th>\n",
       "      <th>제목</th>\n",
       "      <th>평점</th>\n",
       "    </tr>\n",
       "  </thead>\n",
       "  <tbody>\n",
       "    <tr>\n",
       "      <th>0</th>\n",
       "      <td>20210201</td>\n",
       "      <td>극장판 바이올렛 에버가든</td>\n",
       "      <td>9.50</td>\n",
       "    </tr>\n",
       "    <tr>\n",
       "      <th>1</th>\n",
       "      <td>20210201</td>\n",
       "      <td>가나의 혼인잔치: 언약</td>\n",
       "      <td>9.45</td>\n",
       "    </tr>\n",
       "    <tr>\n",
       "      <th>2</th>\n",
       "      <td>20210201</td>\n",
       "      <td>언플랜드</td>\n",
       "      <td>9.42</td>\n",
       "    </tr>\n",
       "    <tr>\n",
       "      <th>3</th>\n",
       "      <td>20210201</td>\n",
       "      <td>소울</td>\n",
       "      <td>9.40</td>\n",
       "    </tr>\n",
       "    <tr>\n",
       "      <th>4</th>\n",
       "      <td>20210201</td>\n",
       "      <td>부활: 그 증거</td>\n",
       "      <td>9.39</td>\n",
       "    </tr>\n",
       "  </tbody>\n",
       "</table>\n",
       "</div>"
      ],
      "text/plain": [
       "         날짜             제목    평점\n",
       "0  20210201  극장판 바이올렛 에버가든  9.50\n",
       "1  20210201   가나의 혼인잔치: 언약  9.45\n",
       "2  20210201           언플랜드  9.42\n",
       "3  20210201             소울  9.40\n",
       "4  20210201       부활: 그 증거  9.39"
      ]
     },
     "execution_count": 52,
     "metadata": {},
     "output_type": "execute_result"
    }
   ],
   "source": [
    "movie_dic = {\n",
    "    '날짜': movie_date,\n",
    "    '제목': movie_title,\n",
    "    '평점': movie_rate,\n",
    "}\n",
    "movie_df = pd.DataFrame(movie_dic)\n",
    "movie_df.head()"
   ]
  },
  {
   "cell_type": "code",
   "execution_count": 53,
   "id": "engaging-pricing",
   "metadata": {},
   "outputs": [],
   "source": [
    "movie_df.to_csv('data/naver_movie_info.csv',encoding='utf-8')"
   ]
  },
  {
   "cell_type": "code",
   "execution_count": 57,
   "id": "built-allergy",
   "metadata": {},
   "outputs": [
    {
     "data": {
      "text/html": [
       "<div>\n",
       "<style scoped>\n",
       "    .dataframe tbody tr th:only-of-type {\n",
       "        vertical-align: middle;\n",
       "    }\n",
       "\n",
       "    .dataframe tbody tr th {\n",
       "        vertical-align: top;\n",
       "    }\n",
       "\n",
       "    .dataframe thead th {\n",
       "        text-align: right;\n",
       "    }\n",
       "</style>\n",
       "<table border=\"1\" class=\"dataframe\">\n",
       "  <thead>\n",
       "    <tr style=\"text-align: right;\">\n",
       "      <th></th>\n",
       "      <th>날짜</th>\n",
       "      <th>제목</th>\n",
       "      <th>평점</th>\n",
       "    </tr>\n",
       "  </thead>\n",
       "  <tbody>\n",
       "    <tr>\n",
       "      <th>0</th>\n",
       "      <td>2021-02-01</td>\n",
       "      <td>극장판 바이올렛 에버가든</td>\n",
       "      <td>9.50</td>\n",
       "    </tr>\n",
       "    <tr>\n",
       "      <th>1</th>\n",
       "      <td>2021-02-01</td>\n",
       "      <td>가나의 혼인잔치: 언약</td>\n",
       "      <td>9.45</td>\n",
       "    </tr>\n",
       "    <tr>\n",
       "      <th>2</th>\n",
       "      <td>2021-02-01</td>\n",
       "      <td>언플랜드</td>\n",
       "      <td>9.42</td>\n",
       "    </tr>\n",
       "    <tr>\n",
       "      <th>3</th>\n",
       "      <td>2021-02-01</td>\n",
       "      <td>소울</td>\n",
       "      <td>9.40</td>\n",
       "    </tr>\n",
       "    <tr>\n",
       "      <th>4</th>\n",
       "      <td>2021-02-01</td>\n",
       "      <td>부활: 그 증거</td>\n",
       "      <td>9.39</td>\n",
       "    </tr>\n",
       "  </tbody>\n",
       "</table>\n",
       "</div>"
      ],
      "text/plain": [
       "          날짜             제목    평점\n",
       "0 2021-02-01  극장판 바이올렛 에버가든  9.50\n",
       "1 2021-02-01   가나의 혼인잔치: 언약  9.45\n",
       "2 2021-02-01           언플랜드  9.42\n",
       "3 2021-02-01             소울  9.40\n",
       "4 2021-02-01       부활: 그 증거  9.39"
      ]
     },
     "execution_count": 57,
     "metadata": {},
     "output_type": "execute_result"
    }
   ],
   "source": [
    "movie_info = pd.read_csv('data/naver_movie_info.csv',\n",
    "                        index_col = 0,\n",
    "                        parse_dates=['날짜'], # 날짜를 y-m-d 형식으로\n",
    "                        encoding = 'utf-8')\n",
    "movie_info.head()"
   ]
  },
  {
   "cell_type": "code",
   "execution_count": 58,
   "id": "vocal-distinction",
   "metadata": {
    "scrolled": true
   },
   "outputs": [
    {
     "data": {
      "text/plain": [
       "(500, 3)"
      ]
     },
     "execution_count": 58,
     "metadata": {},
     "output_type": "execute_result"
    }
   ],
   "source": [
    "movie_info.shape"
   ]
  },
  {
   "cell_type": "markdown",
   "id": "educated-objective",
   "metadata": {},
   "source": [
    "# 영화 평점 변화 시각화 하기"
   ]
  },
  {
   "cell_type": "markdown",
   "id": "incomplete-galaxy",
   "metadata": {},
   "source": [
    "## 시각화 연습"
   ]
  },
  {
   "cell_type": "code",
   "execution_count": 63,
   "id": "impossible-oregon",
   "metadata": {},
   "outputs": [
    {
     "data": {
      "text/plain": [
       "<matplotlib.legend.Legend at 0x1ece118dc40>"
      ]
     },
     "execution_count": 63,
     "metadata": {},
     "output_type": "execute_result"
    },
    {
     "data": {
      "image/png": "[encoded data removed]",
      "text/plain": [
       "<Figure size 720x288 with 1 Axes>"
      ]
     },
     "metadata": {
      "needs_background": "light"
     },
     "output_type": "display_data"
    }
   ],
   "source": [
    "x = [1, 2, 3, 4]\n",
    "y = [1, 4, 9, 12]\n",
    "\n",
    "plt.figure(figsize=(10,4)) # 그래프 객체 생성\n",
    "plt.title('title')\n",
    "plt.plot(x,y, label='point') # x축, y축 데이터 표시\n",
    "plt.legend() # 범례 표시"
   ]
  },
  {
   "cell_type": "markdown",
   "id": "suffering-works",
   "metadata": {},
   "source": [
    "## 영화 평점 변화 시각화"
   ]
  },
  {
   "cell_type": "code",
   "execution_count": 68,
   "id": "wooden-defensive",
   "metadata": {},
   "outputs": [
    {
     "name": "stdout",
     "output_type": "stream",
     "text": [
      "62\n",
      "500\n"
     ]
    }
   ],
   "source": [
    "print(len(movie_info['제목'].unique()))\n",
    "print(len(movie_info['제목']))"
   ]
  },
  {
   "cell_type": "code",
   "execution_count": 82,
   "id": "bright-budapest",
   "metadata": {},
   "outputs": [
    {
     "data": {
      "text/plain": [
       "[['극장판 바이올렛 에버가든', 9.5],\n",
       " ['가나의 혼인잔치: 언약', 9.451666666666666],\n",
       " ['언플랜드', 9.413333333333334],\n",
       " ['소울', 9.365833333333333],\n",
       " ['부활: 그 증거', 9.375]]"
      ]
     },
     "execution_count": 82,
     "metadata": {},
     "output_type": "execute_result"
    }
   ],
   "source": [
    "movie_ranking = []\n",
    "\n",
    "# [영화명, 영화평점]을 한 세트로 리스트로 만듦\n",
    "for title in movie_info['제목'].unique():\n",
    "    movie_ranking.append([title,\n",
    "                        movie_info[movie_info['제목']==title]['평점'].mean()])\n",
    "movie_ranking[:5]"
   ]
  },
  {
   "cell_type": "code",
   "execution_count": 84,
   "id": "biological-oxford",
   "metadata": {},
   "outputs": [
    {
     "data": {
      "text/html": [
       "<div>\n",
       "<style scoped>\n",
       "    .dataframe tbody tr th:only-of-type {\n",
       "        vertical-align: middle;\n",
       "    }\n",
       "\n",
       "    .dataframe tbody tr th {\n",
       "        vertical-align: top;\n",
       "    }\n",
       "\n",
       "    .dataframe thead th {\n",
       "        text-align: right;\n",
       "    }\n",
       "</style>\n",
       "<table border=\"1\" class=\"dataframe\">\n",
       "  <thead>\n",
       "    <tr style=\"text-align: right;\">\n",
       "      <th></th>\n",
       "      <th>제목</th>\n",
       "      <th>평균평점</th>\n",
       "    </tr>\n",
       "  </thead>\n",
       "  <tbody>\n",
       "    <tr>\n",
       "      <th>0</th>\n",
       "      <td>극장판 바이올렛 에버가든</td>\n",
       "      <td>9.500000</td>\n",
       "    </tr>\n",
       "    <tr>\n",
       "      <th>1</th>\n",
       "      <td>가나의 혼인잔치: 언약</td>\n",
       "      <td>9.451667</td>\n",
       "    </tr>\n",
       "    <tr>\n",
       "      <th>2</th>\n",
       "      <td>언플랜드</td>\n",
       "      <td>9.413333</td>\n",
       "    </tr>\n",
       "    <tr>\n",
       "      <th>3</th>\n",
       "      <td>소울</td>\n",
       "      <td>9.365833</td>\n",
       "    </tr>\n",
       "    <tr>\n",
       "      <th>4</th>\n",
       "      <td>부활: 그 증거</td>\n",
       "      <td>9.375000</td>\n",
       "    </tr>\n",
       "    <tr>\n",
       "      <th>...</th>\n",
       "      <td>...</td>\n",
       "      <td>...</td>\n",
       "    </tr>\n",
       "    <tr>\n",
       "      <th>57</th>\n",
       "      <td>맨체스터 바이 더 씨</td>\n",
       "      <td>8.720000</td>\n",
       "    </tr>\n",
       "    <tr>\n",
       "      <th>58</th>\n",
       "      <td>더 울프 오브 월 스트리트</td>\n",
       "      <td>8.050000</td>\n",
       "    </tr>\n",
       "    <tr>\n",
       "      <th>59</th>\n",
       "      <td>해리 포터와 불의 잔</td>\n",
       "      <td>7.980000</td>\n",
       "    </tr>\n",
       "    <tr>\n",
       "      <th>60</th>\n",
       "      <td>원더</td>\n",
       "      <td>9.510000</td>\n",
       "    </tr>\n",
       "    <tr>\n",
       "      <th>61</th>\n",
       "      <td>명탐정 코난: 진홍의 수학여행</td>\n",
       "      <td>7.560000</td>\n",
       "    </tr>\n",
       "  </tbody>\n",
       "</table>\n",
       "<p>62 rows × 2 columns</p>\n",
       "</div>"
      ],
      "text/plain": [
       "                  제목      평균평점\n",
       "0      극장판 바이올렛 에버가든  9.500000\n",
       "1       가나의 혼인잔치: 언약  9.451667\n",
       "2               언플랜드  9.413333\n",
       "3                 소울  9.365833\n",
       "4           부활: 그 증거  9.375000\n",
       "..               ...       ...\n",
       "57       맨체스터 바이 더 씨  8.720000\n",
       "58    더 울프 오브 월 스트리트  8.050000\n",
       "59       해리 포터와 불의 잔  7.980000\n",
       "60                원더  9.510000\n",
       "61  명탐정 코난: 진홍의 수학여행  7.560000\n",
       "\n",
       "[62 rows x 2 columns]"
      ]
     },
     "execution_count": 84,
     "metadata": {},
     "output_type": "execute_result"
    }
   ],
   "source": [
    "movie_ranking_df = pd.DataFrame(movie_ranking, columns=['제목','평균평점'])\n",
    "movie_ranking_df"
   ]
  },
  {
   "cell_type": "code",
   "execution_count": 89,
   "id": "tight-resistance",
   "metadata": {},
   "outputs": [
    {
     "data": {
      "text/html": [
       "<div>\n",
       "<style scoped>\n",
       "    .dataframe tbody tr th:only-of-type {\n",
       "        vertical-align: middle;\n",
       "    }\n",
       "\n",
       "    .dataframe tbody tr th {\n",
       "        vertical-align: top;\n",
       "    }\n",
       "\n",
       "    .dataframe thead th {\n",
       "        text-align: right;\n",
       "    }\n",
       "</style>\n",
       "<table border=\"1\" class=\"dataframe\">\n",
       "  <thead>\n",
       "    <tr style=\"text-align: right;\">\n",
       "      <th></th>\n",
       "      <th>제목</th>\n",
       "      <th>평균평점</th>\n",
       "    </tr>\n",
       "  </thead>\n",
       "  <tbody>\n",
       "    <tr>\n",
       "      <th>0</th>\n",
       "      <td>그린 북</td>\n",
       "      <td>9.590000</td>\n",
       "    </tr>\n",
       "    <tr>\n",
       "      <th>1</th>\n",
       "      <td>원더</td>\n",
       "      <td>9.510000</td>\n",
       "    </tr>\n",
       "    <tr>\n",
       "      <th>2</th>\n",
       "      <td>극장판 바이올렛 에버가든</td>\n",
       "      <td>9.500000</td>\n",
       "    </tr>\n",
       "    <tr>\n",
       "      <th>3</th>\n",
       "      <td>가나의 혼인잔치: 언약</td>\n",
       "      <td>9.451667</td>\n",
       "    </tr>\n",
       "    <tr>\n",
       "      <th>4</th>\n",
       "      <td>언플랜드</td>\n",
       "      <td>9.413333</td>\n",
       "    </tr>\n",
       "  </tbody>\n",
       "</table>\n",
       "</div>"
      ],
      "text/plain": [
       "              제목      평균평점\n",
       "0           그린 북  9.590000\n",
       "1             원더  9.510000\n",
       "2  극장판 바이올렛 에버가든  9.500000\n",
       "3   가나의 혼인잔치: 언약  9.451667\n",
       "4           언플랜드  9.413333"
      ]
     },
     "execution_count": 89,
     "metadata": {},
     "output_type": "execute_result"
    }
   ],
   "source": [
    "# 평균평점 기준으로 내림차순 정렬\n",
    "movie_ranking_df.sort_values(by='평균평점',\n",
    "                            ascending = False,\n",
    "                            inplace = True)\n",
    "\n",
    "# 정렬하고 난 뒤에는 인덱스가 원래 인덱스 때문에 뒤죽박죽 되니까\n",
    "# 인덱스 재설정 후 원래 인덱스 삭제\n",
    "movie_ranking_df.reset_index(drop=True, inplace=True)\n",
    "movie_ranking_df.head()"
   ]
  },
  {
   "cell_type": "code",
   "execution_count": 91,
   "id": "polyphonic-mambo",
   "metadata": {},
   "outputs": [
    {
     "data": {
      "text/plain": [
       "array(['그린 북', '원더', '극장판 바이올렛 에버가든', '가나의 혼인잔치: 언약', '언플랜드', '부활: 그 증거',\n",
       "       '동주', '소울', '서유기 2 - 선리기연', '늑대와 춤을'], dtype=object)"
      ]
     },
     "execution_count": 91,
     "metadata": {},
     "output_type": "execute_result"
    }
   ],
   "source": [
    "# 상위 10개 영화 추출\n",
    "movie_ranking_list = movie_ranking_df[:10]['제목'].values\n",
    "movie_ranking_list"
   ]
  },
  {
   "cell_type": "markdown",
   "id": "illegal-mailman",
   "metadata": {},
   "source": [
    "## 그래프 그리기"
   ]
  },
  {
   "cell_type": "code",
   "execution_count": 92,
   "id": "colonial-mixer",
   "metadata": {},
   "outputs": [],
   "source": [
    "#한글 깨짐 방지\n",
    "from matplotlib import font_manager, rc\n",
    "font_name = font_manager.FontProperties(fname=\"c:/Windows/Fonts/malgun.ttf\").get_name()\n",
    "rc('font', family=font_name)"
   ]
  },
  {
   "cell_type": "code",
   "execution_count": 93,
   "id": "monetary-knock",
   "metadata": {},
   "outputs": [
    {
     "name": "stderr",
     "output_type": "stream",
     "text": [
      "c:\\users\\megan\\appdata\\local\\programs\\python\\python38\\lib\\site-packages\\seaborn\\_decorators.py:36: FutureWarning: Pass the following variables as keyword args: x, y. From version 0.12, the only valid positional argument will be `data`, and passing other arguments without an explicit keyword will result in an error or misinterpretation.\n",
      "  warnings.warn(\n"
     ]
    },
    {
     "data": {
      "text/plain": [
       "<AxesSubplot:xlabel='날짜', ylabel='평점'>"
      ]
     },
     "execution_count": 93,
     "metadata": {},
     "output_type": "execute_result"
    },
    {
     "data": {
      "image/png": "[encoded data removed]",
      "text/plain": [
       "<Figure size 432x288 with 1 Axes>"
      ]
     },
     "metadata": {
      "needs_background": "light"
     },
     "output_type": "display_data"
    }
   ],
   "source": [
    "# 하나의 영화 날짜별 평점 변화 그래프\n",
    "df = movie_info[movie_info['제목']==movie_ranking_list[0]]\n",
    "sns.lineplot('날짜','평점',data=df)"
   ]
  },
  {
   "cell_type": "code",
   "execution_count": 95,
   "id": "enormous-copper",
   "metadata": {},
   "outputs": [],
   "source": [
    "# seaborn으로 그리기 위해 특정 영화만 데이터프레임으로 합치기\n",
    "concat_df = pd.DataFrame()\n",
    "for title in movie_ranking_list[:3]:\n",
    "    df = movie_info[movie_info['제목']==title]\n",
    "    concat_df = pd.concat([concat_df,df], axis = 0)"
   ]
  },
  {
   "cell_type": "code",
   "execution_count": 98,
   "id": "upset-textbook",
   "metadata": {},
   "outputs": [
    {
     "data": {
      "text/plain": [
       "<AxesSubplot:xlabel='날짜', ylabel='평점'>"
      ]
     },
     "execution_count": 98,
     "metadata": {},
     "output_type": "execute_result"
    },
    {
     "data": {
      "image/png": "[encoded data removed]",
      "text/plain": [
       "<Figure size 432x288 with 1 Axes>"
      ]
     },
     "metadata": {
      "needs_background": "light"
     },
     "output_type": "display_data"
    }
   ],
   "source": [
    "sns.lineplot('날짜','평점',data=concat_df, hue='제목')"
   ]
  },
  {
   "cell_type": "code",
   "execution_count": 100,
   "id": "alpha-disco",
   "metadata": {
    "collapsed": true
   },
   "outputs": [
    {
     "name": "stderr",
     "output_type": "stream",
     "text": [
      "c:\\users\\megan\\appdata\\local\\programs\\python\\python38\\lib\\site-packages\\seaborn\\_decorators.py:36: FutureWarning: Pass the following variables as keyword args: x, y. From version 0.12, the only valid positional argument will be `data`, and passing other arguments without an explicit keyword will result in an error or misinterpretation.\n",
      "  warnings.warn(\n",
      "c:\\users\\megan\\appdata\\local\\programs\\python\\python38\\lib\\site-packages\\seaborn\\_decorators.py:36: FutureWarning: Pass the following variables as keyword args: x, y. From version 0.12, the only valid positional argument will be `data`, and passing other arguments without an explicit keyword will result in an error or misinterpretation.\n",
      "  warnings.warn(\n",
      "c:\\users\\megan\\appdata\\local\\programs\\python\\python38\\lib\\site-packages\\seaborn\\_decorators.py:36: FutureWarning: Pass the following variables as keyword args: x, y. From version 0.12, the only valid positional argument will be `data`, and passing other arguments without an explicit keyword will result in an error or misinterpretation.\n",
      "  warnings.warn(\n",
      "c:\\users\\megan\\appdata\\local\\programs\\python\\python38\\lib\\site-packages\\seaborn\\_decorators.py:36: FutureWarning: Pass the following variables as keyword args: x, y. From version 0.12, the only valid positional argument will be `data`, and passing other arguments without an explicit keyword will result in an error or misinterpretation.\n",
      "  warnings.warn(\n",
      "c:\\users\\megan\\appdata\\local\\programs\\python\\python38\\lib\\site-packages\\seaborn\\_decorators.py:36: FutureWarning: Pass the following variables as keyword args: x, y. From version 0.12, the only valid positional argument will be `data`, and passing other arguments without an explicit keyword will result in an error or misinterpretation.\n",
      "  warnings.warn(\n",
      "c:\\users\\megan\\appdata\\local\\programs\\python\\python38\\lib\\site-packages\\seaborn\\_decorators.py:36: FutureWarning: Pass the following variables as keyword args: x, y. From version 0.12, the only valid positional argument will be `data`, and passing other arguments without an explicit keyword will result in an error or misinterpretation.\n",
      "  warnings.warn(\n",
      "c:\\users\\megan\\appdata\\local\\programs\\python\\python38\\lib\\site-packages\\seaborn\\_decorators.py:36: FutureWarning: Pass the following variables as keyword args: x, y. From version 0.12, the only valid positional argument will be `data`, and passing other arguments without an explicit keyword will result in an error or misinterpretation.\n",
      "  warnings.warn(\n",
      "c:\\users\\megan\\appdata\\local\\programs\\python\\python38\\lib\\site-packages\\seaborn\\_decorators.py:36: FutureWarning: Pass the following variables as keyword args: x, y. From version 0.12, the only valid positional argument will be `data`, and passing other arguments without an explicit keyword will result in an error or misinterpretation.\n",
      "  warnings.warn(\n",
      "c:\\users\\megan\\appdata\\local\\programs\\python\\python38\\lib\\site-packages\\seaborn\\_decorators.py:36: FutureWarning: Pass the following variables as keyword args: x, y. From version 0.12, the only valid positional argument will be `data`, and passing other arguments without an explicit keyword will result in an error or misinterpretation.\n",
      "  warnings.warn(\n",
      "c:\\users\\megan\\appdata\\local\\programs\\python\\python38\\lib\\site-packages\\seaborn\\_decorators.py:36: FutureWarning: Pass the following variables as keyword args: x, y. From version 0.12, the only valid positional argument will be `data`, and passing other arguments without an explicit keyword will result in an error or misinterpretation.\n",
      "  warnings.warn(\n"
     ]
    },
    {
     "data": {
      "image/png": "[encoded data removed]",
      "text/plain": [
       "<Figure size 432x288 with 1 Axes>"
      ]
     },
     "metadata": {
      "needs_background": "light"
     },
     "output_type": "display_data"
    },
    {
     "data": {
      "image/png": "[encoded data removed]",
      "text/plain": [
       "<Figure size 432x288 with 1 Axes>"
      ]
     },
     "metadata": {
      "needs_background": "light"
     },
     "output_type": "display_data"
    },
    {
     "data": {
      "image/png": "[encoded data removed]",
      "text/plain": [
       "<Figure size 432x288 with 1 Axes>"
      ]
     },
     "metadata": {
      "needs_background": "light"
     },
     "output_type": "display_data"
    },
    {
     "data": {
      "image/png": "[encoded data removed]",
      "text/plain": [
       "<Figure size 432x288 with 1 Axes>"
      ]
     },
     "metadata": {
      "needs_background": "light"
     },
     "output_type": "display_data"
    },
    {
     "data": {
      "image/png": "[encoded data removed]",
      "text/plain": [
       "<Figure size 432x288 with 1 Axes>"
      ]
     },
     "metadata": {
      "needs_background": "light"
     },
     "output_type": "display_data"
    },
    {
     "data": {
      "image/png": "[encoded data removed]",
      "text/plain": [
       "<Figure size 432x288 with 1 Axes>"
      ]
     },
     "metadata": {
      "needs_background": "light"
     },
     "output_type": "display_data"
    },
    {
     "data": {
      "image/png": "[encoded data removed]",
      "text/plain": [
       "<Figure size 432x288 with 1 Axes>"
      ]
     },
     "metadata": {
      "needs_background": "light"
     },
     "output_type": "display_data"
    },
    {
     "data": {
      "image/png": "[encoded data removed]",
      "text/plain": [
       "<Figure size 432x288 with 1 Axes>"
      ]
     },
     "metadata": {
      "needs_background": "light"
     },
     "output_type": "display_data"
    },
    {
     "data": {
      "image/png": "[encoded data removed]",
      "text/plain": [
       "<Figure size 432x288 with 1 Axes>"
      ]
     },
     "metadata": {
      "needs_background": "light"
     },
     "output_type": "display_data"
    },
    {
     "data": {
      "image/png": "[encoded data removed]",
      "text/plain": [
       "<Figure size 432x288 with 1 Axes>"
      ]
     },
     "metadata": {
      "needs_background": "light"
     },
     "output_type": "display_data"
    }
   ],
   "source": [
    "# 영화 하나 당 1개의 그래프 그리기\n",
    "for title in movie_ranking_list:\n",
    "    df = movie_info[movie_info['제목']==title]\n",
    "    plt.figure()\n",
    "    plt.title(title)\n",
    "    plt.xticks(rotation=90)\n",
    "    sns.lineplot('날짜','평점',data=df)"
   ]
  },
  {
   "cell_type": "code",
   "execution_count": null,
   "id": "played-default",
   "metadata": {},
   "outputs": [],
   "source": []
  }
 ],
 "metadata": {
  "kernelspec": {
   "display_name": "Python 3",
   "language": "python",
   "name": "python3"
  },
  "language_info": {
   "codemirror_mode": {
    "name": "ipython",
    "version": 3
   },
   "file_extension": ".py",
   "mimetype": "text/x-python",
   "name": "python",
   "nbconvert_exporter": "python",
   "pygments_lexer": "ipython3",
   "version": "3.8.7"
  },
  "toc": {
   "base_numbering": 1,
   "nav_menu": {},
   "number_sections": true,
   "sideBar": true,
   "skip_h1_title": false,
   "title_cell": "Table of Contents",
   "title_sidebar": "Contents",
   "toc_cell": false,
   "toc_position": {},
   "toc_section_display": true,
   "toc_window_display": false
  }
 },
 "nbformat": 4,
 "nbformat_minor": 5
}
