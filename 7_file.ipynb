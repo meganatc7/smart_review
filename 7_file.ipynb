{
 "cells": [
  {
   "cell_type": "code",
   "execution_count": 1,
   "metadata": {},
   "outputs": [],
   "source": [
    "#파일 입력 방법 (\"w\"write의 약자)\n",
    "\n",
    "f = open(\"연습.txt\",\"w\")\n",
    "f.write(\"hello world\\n\")\n",
    "f.write(\"hello world\\n\")\n",
    "f.write(\"hello world\")\n",
    "f.close()"
   ]
  },
  {
   "cell_type": "code",
   "execution_count": 2,
   "metadata": {},
   "outputs": [],
   "source": [
    "#반복문 사용해서 입력\n",
    "\n",
    "f = open(\"연습2.txt\",\"w\")\n",
    "for i in range(1,6):\n",
    "    f.write('{}번째 줄입니다잉.\\n'.format(i))\n",
    "    \n",
    "f.close()"
   ]
  },
  {
   "cell_type": "code",
   "execution_count": 18,
   "metadata": {},
   "outputs": [
    {
     "name": "stdout",
     "output_type": "stream",
     "text": [
      "1번째 줄입니다잉.\n",
      "\n",
      "2번째 줄입니다잉.\n",
      "\n",
      "3번째 줄입니다잉.\n",
      "\n",
      "4번째 줄입니다잉.\n",
      "\n",
      "5번째 줄입니다잉.\n",
      "\n",
      "\n",
      "True\n"
     ]
    }
   ],
   "source": [
    "#파일 읽기 -- 1. readline() (\"r\"read의 약자)\n",
    "\n",
    "f = open(\"연습2.txt\",\"r\")\n",
    "line = f.readline()\n",
    "print(line)\n",
    "line = f.readline()\n",
    "print(line)\n",
    "line = f.readline()\n",
    "print(line)\n",
    "line = f.readline()\n",
    "print(line)\n",
    "line = f.readline()\n",
    "print(line)\n",
    "#연속으로 사용 시 다음 줄을 출력\n",
    "\n",
    "#다음 값이 없을 때 readline()사용 시 None값 리턴됨\n",
    "#not 연산자를 붙여주면 True가 반환\n",
    "line = f.readline()\n",
    "print(line)\n",
    "\n",
    "line = f.readline()\n",
    "print(not line)"
   ]
  },
  {
   "cell_type": "code",
   "execution_count": 19,
   "metadata": {},
   "outputs": [
    {
     "name": "stdout",
     "output_type": "stream",
     "text": [
      "1번째 줄입니다잉.\n",
      "\n",
      "2번째 줄입니다잉.\n",
      "\n",
      "3번째 줄입니다잉.\n",
      "\n",
      "4번째 줄입니다잉.\n",
      "\n",
      "5번째 줄입니다잉.\n",
      "\n"
     ]
    }
   ],
   "source": [
    "#파일 읽기 -- 1.1 readline() 반복문 사용해서 읽기\n",
    "f = open(\"연습2.txt\",\"r\")\n",
    "\n",
    "while True:\n",
    "    line = f.readline()\n",
    "    if not line: #값이 없을 시 if문이 True가 됨\n",
    "        break\n",
    "    print(line)\n",
    "f.close()"
   ]
  },
  {
   "cell_type": "code",
   "execution_count": 20,
   "metadata": {},
   "outputs": [
    {
     "name": "stdout",
     "output_type": "stream",
     "text": [
      "['1번째 줄입니다잉.\\n', '2번째 줄입니다잉.\\n', '3번째 줄입니다잉.\\n', '4번째 줄입니다잉.\\n', '5번째 줄입니다잉.\\n']\n"
     ]
    }
   ],
   "source": [
    "#파일 읽기 -- 2. readlines()함수 사용 , 리스트 타입으로 저장됨\n",
    "f = open(\"연습2.txt\",\"r\")\n",
    "lines = f.readlines()\n",
    "print(lines)\n",
    "\n",
    "f.close()"
   ]
  },
  {
   "cell_type": "code",
   "execution_count": 21,
   "metadata": {},
   "outputs": [
    {
     "name": "stdout",
     "output_type": "stream",
     "text": [
      "1번째 줄입니다잉.\n",
      "\n",
      "2번째 줄입니다잉.\n",
      "\n",
      "3번째 줄입니다잉.\n",
      "\n",
      "4번째 줄입니다잉.\n",
      "\n",
      "5번째 줄입니다잉.\n",
      "\n"
     ]
    }
   ],
   "source": [
    "#파일 읽기 -- 2.1 readlines()함수를 반복문 사용하여 한줄 씩 읽어오기\n",
    "f = open(\"연습2.txt\",\"r\")\n",
    "lines = f.readlines()\n",
    "for i in lines:\n",
    "    print(i)\n",
    "f.close()"
   ]
  },
  {
   "cell_type": "code",
   "execution_count": 22,
   "metadata": {},
   "outputs": [
    {
     "name": "stdout",
     "output_type": "stream",
     "text": [
      "1번째 줄입니다잉.\n",
      "2번째 줄입니다잉.\n",
      "3번째 줄입니다잉.\n",
      "4번째 줄입니다잉.\n",
      "5번째 줄입니다잉.\n",
      "\n"
     ]
    }
   ],
   "source": [
    "#파일 읽기 -- 3. read()함수 사용해서 파일 읽기\n",
    "f = open(\"연습2.txt\",\"r\")\n",
    "data = f.read()\n",
    "print(data)\n",
    "f.close()"
   ]
  },
  {
   "cell_type": "code",
   "execution_count": 24,
   "metadata": {},
   "outputs": [],
   "source": [
    "#파일 추가하기 -'w'시 추가 작성이 아닌 덮어쓰기, 'a'append의 약자\n",
    "f = open(\"연습2.txt\",\"a\")\n",
    "f.write('6번째 줄 입니다.\\n')\n",
    "f.close()"
   ]
  },
  {
   "cell_type": "code",
   "execution_count": 25,
   "metadata": {},
   "outputs": [
    {
     "name": "stdout",
     "output_type": "stream",
     "text": [
      "1번째 줄입니다잉.\n",
      "2번째 줄입니다잉.\n",
      "3번째 줄입니다잉.\n",
      "4번째 줄입니다잉.\n",
      "5번째 줄입니다잉.\n",
      "6번째 줄 입니다.\n",
      "\n"
     ]
    }
   ],
   "source": [
    "f = open(\"연습2.txt\",\"r\")\n",
    "data = f.read()\n",
    "print(data)\n",
    "f.close()"
   ]
  },
  {
   "cell_type": "code",
   "execution_count": 26,
   "metadata": {},
   "outputs": [],
   "source": [
    "#with문 -- 파일 사용이 끝나면 자동으로 닫아주는 기능을 가지고 있는 문장\n",
    "#open()내장함수 사용 시 항상 close()를 사용해서 닫아주어야함.\n",
    "\n",
    "with open(\"연습2.txt\",\"w\") as f: #f라고 지칭 as\n",
    "    f.write('hello world')\n",
    "    \n"
   ]
  },
  {
   "cell_type": "code",
   "execution_count": 29,
   "metadata": {},
   "outputs": [
    {
     "name": "stdout",
     "output_type": "stream",
     "text": [
      "hello world\n"
     ]
    }
   ],
   "source": [
    "with open(\"연습2.txt\",\"r\") as f: #f라고 지칭 as\n",
    "    line = f.readline()\n",
    "    print(line)\n",
    "    \n"
   ]
  }
 ],
 "metadata": {
  "kernelspec": {
   "display_name": "Python 3",
   "language": "python",
   "name": "python3"
  },
  "language_info": {
   "codemirror_mode": {
    "name": "ipython",
    "version": 3
   },
   "file_extension": ".py",
   "mimetype": "text/x-python",
   "name": "python",
   "nbconvert_exporter": "python",
   "pygments_lexer": "ipython3",
   "version": "3.8.7"
  }
 },
 "nbformat": 4,
 "nbformat_minor": 4
}
