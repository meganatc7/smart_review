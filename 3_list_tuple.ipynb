{
 "cells": [
  {
   "cell_type": "markdown",
   "metadata": {},
   "source": [
    "# 리스트\n",
    "- 많은 양의 데이터를 순서대로 정리정돈할 때 사용하는 자료형\n",
    "- 구조)<br>\n",
    "- 리스트명 = [요소1, 요소2,....]"
   ]
  },
  {
   "cell_type": "code",
   "execution_count": 4,
   "metadata": {},
   "outputs": [],
   "source": [
    "#리스트 선언\n",
    "list1 = [1,2,3,4,5]\n",
    "list2 = ['사과', '딸기', '메론', '바나나', '복숭아']\n",
    "list3 = ['최창영',23,'김덕배',21]\n",
    "list4 = [[1,2,3,],[4,5,6,],[7,8,9]]"
   ]
  },
  {
   "cell_type": "code",
   "execution_count": 5,
   "metadata": {},
   "outputs": [
    {
     "name": "stdout",
     "output_type": "stream",
     "text": [
      "[1, 2, 3, 4, 5]\n"
     ]
    }
   ],
   "source": [
    "# 리스트 내 모든 데이터 보기\n",
    "print(list1)"
   ]
  },
  {
   "cell_type": "code",
   "execution_count": 10,
   "metadata": {},
   "outputs": [
    {
     "name": "stdout",
     "output_type": "stream",
     "text": [
      "3\n",
      "바나나\n",
      "[2, 3, 4]\n"
     ]
    }
   ],
   "source": [
    "# 리스트 인덱싱, 슬라이싱\n",
    "# list1 변수 안에 숫자 3을 출력해야 하는 경우\n",
    "print(list1[2])\n",
    "\n",
    "# list2 변수 안에 바나나를 출력\n",
    "print(list2[3])\n",
    "\n",
    "# list1 변 수 안에 2~4까지 출력\n",
    "print(list1[1:4])"
   ]
  },
  {
   "cell_type": "code",
   "execution_count": 25,
   "metadata": {},
   "outputs": [
    {
     "name": "stdout",
     "output_type": "stream",
     "text": [
      "['마리아', '다시 여기 바닷가', 'How You Like That', '그 여름을 틀어줘', 'Summer Hate', 'Downtown Baby', '에잇', '홀로', '아로하', '보라빛 밤']\n"
     ]
    }
   ],
   "source": [
    "# 빈 리스트 선언\n",
    "song_list = []\n",
    "\n",
    "# 리스트에 데이터 추가 : append()함수 활용\n",
    "song_list.append('마리아')\n",
    "song_list.append('다시 여기 바닷가')\n",
    "song_list.append('How You Like That')\n",
    "song_list.append('그 여름을 틀어줘')\n",
    "song_list.append('Summer Hate')\n",
    "song_list.append('Downtown Baby')\n",
    "song_list.append('에잇')\n",
    "song_list.append('홀로')\n",
    "song_list.append('아로하')\n",
    "song_list.append('보라빛 밤')\n",
    "\n",
    "print(song_list)"
   ]
  },
  {
   "cell_type": "code",
   "execution_count": 40,
   "metadata": {},
   "outputs": [
    {
     "data": {
      "text/plain": [
       "['마리아',\n",
       " '다시 여기 바닷가',\n",
       " 'How You Like That',\n",
       " '그 여름을 틀어줘',\n",
       " 'Summer Hate',\n",
       " 'Downtown Baby',\n",
       " '홀로',\n",
       " '아로하',\n",
       " '보라빛 밤']"
      ]
     },
     "execution_count": 40,
     "metadata": {},
     "output_type": "execute_result"
    }
   ],
   "source": [
    "# 데이터 삭제\n",
    "# 1. del 리스트[인덱싱 or 슬라이싱]\n",
    "# 2. remove(요소명)\n",
    "\n",
    "#del song_list[0]\n",
    "#song_list.remove('에잇')\n",
    "song_list"
   ]
  },
  {
   "cell_type": "code",
   "execution_count": 41,
   "metadata": {},
   "outputs": [
    {
     "data": {
      "text/plain": [
       "['마리아',\n",
       " '다시 여기 바닷가',\n",
       " 'How You Like That',\n",
       " '그 여름을 틀어줘',\n",
       " 'Summer Hate',\n",
       " 'Downtown Baby',\n",
       " '에잇',\n",
       " '홀로',\n",
       " '아로하',\n",
       " '보라빛 밤']"
      ]
     },
     "execution_count": 41,
     "metadata": {},
     "output_type": "execute_result"
    }
   ],
   "source": [
    "# 데이터 추가 2\n",
    "# insert(인덱스, 요소)\n",
    "# 0번째 위치에 '다시 여기 바닷가' 곡명을 추가\n",
    "#song_list.insert(0,'마리아')\n",
    "#song_list.insert(6,'에잇')\n",
    "song_list"
   ]
  },
  {
   "cell_type": "code",
   "execution_count": 42,
   "metadata": {},
   "outputs": [
    {
     "data": {
      "text/plain": [
       "4"
      ]
     },
     "execution_count": 42,
     "metadata": {},
     "output_type": "execute_result"
    }
   ],
   "source": [
    "# SummerHate의 위치를 출력하시오\n",
    "# index(요소명) 함수 활용\n",
    "song_list.index('Summer Hate')"
   ]
  },
  {
   "cell_type": "code",
   "execution_count": 44,
   "metadata": {},
   "outputs": [
    {
     "data": {
      "text/plain": [
       "(5, 10)"
      ]
     },
     "execution_count": 44,
     "metadata": {},
     "output_type": "execute_result"
    }
   ],
   "source": [
    "# 리스트 내 요소들의 갯수 확인 : len()함수 --> for문과 같이 활용\n",
    "len(song_list)\n",
    "\n",
    "len(list1), len(song_list)"
   ]
  },
  {
   "cell_type": "markdown",
   "metadata": {},
   "source": [
    "# 튜플\n",
    "- 구조)<br>\n",
    "- 튜플명 = (요소1, 요소2, ....)\n",
    "- 추가, 수정, 삭제 불가능!"
   ]
  },
  {
   "cell_type": "code",
   "execution_count": 45,
   "metadata": {},
   "outputs": [],
   "source": [
    "# 튜플 선언 & 초기화\n",
    "tuple1 = (1,2,3,4,5)"
   ]
  },
  {
   "cell_type": "code",
   "execution_count": 47,
   "metadata": {},
   "outputs": [
    {
     "data": {
      "text/plain": [
       "(1, 2, 3)"
      ]
     },
     "execution_count": 47,
     "metadata": {},
     "output_type": "execute_result"
    }
   ],
   "source": [
    "# 튜플 내 인덱싱으로 데이터 접근\n",
    "tuple1[0]\n",
    "\n",
    "tuple1[0:3] # 튜플구조로 반환"
   ]
  },
  {
   "cell_type": "code",
   "execution_count": null,
   "metadata": {},
   "outputs": [],
   "source": []
  },
  {
   "cell_type": "code",
   "execution_count": null,
   "metadata": {},
   "outputs": [],
   "source": []
  },
  {
   "cell_type": "code",
   "execution_count": null,
   "metadata": {},
   "outputs": [],
   "source": []
  },
  {
   "cell_type": "code",
   "execution_count": null,
   "metadata": {},
   "outputs": [],
   "source": []
  }
 ],
 "metadata": {
  "kernelspec": {
   "display_name": "Python 3",
   "language": "python",
   "name": "python3"
  },
  "language_info": {
   "codemirror_mode": {
    "name": "ipython",
    "version": 3
   },
   "file_extension": ".py",
   "mimetype": "text/x-python",
   "name": "python",
   "nbconvert_exporter": "python",
   "pygments_lexer": "ipython3",
   "version": "3.8.3"
  }
 },
 "nbformat": 4,
 "nbformat_minor": 4
}
