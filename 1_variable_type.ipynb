{
 "cells": [
  {
   "cell_type": "markdown",
   "metadata": {},
   "source": [
    "# 현재 파일의 설명을 작성하는 공간\n",
    "-----------------------------------------------------------------------------\n",
    "Command Mode) <br>\n",
    "키보드 M : Markdown모드로 변경 <br>\n",
    "A키 : 위쪽에 셀 추가 <br>\n",
    "B키 : 아래쪽에 셀 추가 <br>\n",
    "DD키 : 현재 선택된 셀 삭제 <br>\n",
    "<br>\n",
    "Edit Mode) <br>\n",
    "Ctrl + Z : 되돌아가기 <br>\n",
    "Ctrl + Y : 앞으로 되돌아가기 <br>"
   ]
  },
  {
   "cell_type": "code",
   "execution_count": null,
   "metadata": {},
   "outputs": [],
   "source": [
    "# 주석처리할 때 '#' 기호 사용"
   ]
  },
  {
   "cell_type": "markdown",
   "metadata": {},
   "source": [
    "## 변수\n",
    "- 데이터를 저장할 수 있는 공간\n",
    "- 선언방법은 \"변수명 = 데이터\"\n"
   ]
  },
  {
   "cell_type": "code",
   "execution_count": 1,
   "metadata": {},
   "outputs": [
    {
     "name": "stdout",
     "output_type": "stream",
     "text": [
      "5\n"
     ]
    }
   ],
   "source": [
    "# 정수형 변수인 num에 숫자 5를 저장하시오.\n",
    "num = 5\n",
    "\n",
    "#변수 num을 출력하시오\n",
    "print(num)"
   ]
  },
  {
   "cell_type": "markdown",
   "metadata": {},
   "source": [
    "## 자료형\n",
    "- 정수, 실수, 문자열, 논리형 기본적으로 4가지 로 구성됨"
   ]
  },
  {
   "cell_type": "code",
   "execution_count": 3,
   "metadata": {},
   "outputs": [
    {
     "name": "stdout",
     "output_type": "stream",
     "text": [
      "<class 'int'>\n",
      "<class 'float'>\n",
      "<class 'str'>\n",
      "<class 'str'>\n"
     ]
    }
   ],
   "source": [
    "# 타입확인\n",
    "print(type(num))\n",
    "\n",
    "num1 = 2.1\n",
    "print(type(num1))\n",
    "\n",
    "str1 = 'hello python!'\n",
    "str2 = \"hello python!\"\n",
    "print(type(str1))\n",
    "print(type(str2))\n",
    "\n",
    "#논리형 변수 초기화 (첫 문자 대문자)\n",
    "bool1 = True\n",
    "bool2 = False"
   ]
  },
  {
   "cell_type": "code",
   "execution_count": 6,
   "metadata": {},
   "outputs": [
    {
     "data": {
      "text/plain": [
       "2.1"
      ]
     },
     "execution_count": 6,
     "metadata": {},
     "output_type": "execute_result"
    }
   ],
   "source": [
    "# 주피터에서는 변수명만 쓰면 출력이 됨(print를 쓸 필요 없음)\n",
    "# 단, 여러개의 값은 출력 불가. 맨 마지막 변수만 출력\n",
    "\n",
    "num\n",
    "num1"
   ]
  },
  {
   "cell_type": "markdown",
   "metadata": {},
   "source": [
    "## 실습1"
   ]
  },
  {
   "cell_type": "code",
   "execution_count": 12,
   "metadata": {},
   "outputs": [
    {
     "name": "stdout",
     "output_type": "stream",
     "text": [
      "13\n",
      "25\n",
      "77\n"
     ]
    }
   ],
   "source": [
    "num1 = 13\n",
    "num2 = 25\n",
    "print(num1)\n",
    "print(num2)\n",
    "\n",
    "num2 = 77\n",
    "print(num2)"
   ]
  },
  {
   "cell_type": "markdown",
   "metadata": {},
   "source": [
    "## 실습2"
   ]
  },
  {
   "cell_type": "code",
   "execution_count": 17,
   "metadata": {},
   "outputs": [
    {
     "name": "stdout",
     "output_type": "stream",
     "text": [
      "3.1425 1.25 3.0\n"
     ]
    }
   ],
   "source": [
    "num3 = 3.1425\n",
    "num4 = 1.25\n",
    "num5 = 3.0\n",
    "print(num3, num4, num5)"
   ]
  },
  {
   "cell_type": "markdown",
   "metadata": {},
   "source": [
    "## 실습3"
   ]
  },
  {
   "cell_type": "code",
   "execution_count": 20,
   "metadata": {},
   "outputs": [
    {
     "name": "stdout",
     "output_type": "stream",
     "text": [
      "'Funny python' 'Easy python'\n"
     ]
    }
   ],
   "source": [
    "str1 = \"'Funny python'\"\n",
    "str2 = \"'Easy python'\"\n",
    "print(str1, str2)"
   ]
  },
  {
   "cell_type": "markdown",
   "metadata": {},
   "source": [
    "## 실습4"
   ]
  },
  {
   "cell_type": "code",
   "execution_count": 25,
   "metadata": {},
   "outputs": [
    {
     "name": "stdout",
     "output_type": "stream",
     "text": [
      "10 15\n",
      "10 15\n",
      "20 20\n"
     ]
    }
   ],
   "source": [
    "# 변수 선언 방법1\n",
    "a = 10\n",
    "b = 15\n",
    "print(a, b)\n",
    "\n",
    "# 변수 선언 방법2\n",
    "a, b = 10, 15\n",
    "print(a, b)\n",
    "\n",
    "# 변수 선언 방법3 : 하나의 데이터를 두 개의 공간에 저장할 때 (temp는 임시변수)\n",
    "origin = temp = 20\n",
    "print(origin, temp)"
   ]
  },
  {
   "cell_type": "code",
   "execution_count": 27,
   "metadata": {},
   "outputs": [
    {
     "name": "stdout",
     "output_type": "stream",
     "text": [
      "300\n"
     ]
    }
   ],
   "source": [
    "x = 100\n",
    "y = 200\n",
    "sum = x + y\n",
    "print(sum)"
   ]
  },
  {
   "cell_type": "code",
   "execution_count": 30,
   "metadata": {},
   "outputs": [
    {
     "name": "stdout",
     "output_type": "stream",
     "text": [
      "she's gone\n",
      "she's gone\n"
     ]
    }
   ],
   "source": [
    "s1 = \"she's gone\" #문자열 안에 작은따옴표나 큰따옴표를 쓰는 경우\n",
    "s2 = 'she\\'s gone'\n",
    "\n",
    "print(s1)\n",
    "print(s2)"
   ]
  },
  {
   "cell_type": "code",
   "execution_count": 32,
   "metadata": {},
   "outputs": [
    {
     "name": "stdout",
     "output_type": "stream",
     "text": [
      "여러 줄로 구성된 \n",
      "문자열을 하나로 대입할 때\n"
     ]
    }
   ],
   "source": [
    "s = '여러 줄로 구성된 \\n문자열을 하나로 대입할 때' # \\n으로 줄 구분\n",
    "\n",
    "print(s)"
   ]
  },
  {
   "cell_type": "code",
   "execution_count": 35,
   "metadata": {},
   "outputs": [
    {
     "name": "stdout",
     "output_type": "stream",
     "text": [
      "여러 줄로 구성된\n",
      "문자열을 하나로 대입할 때\n"
     ]
    }
   ],
   "source": [
    "#큰따옴표나 작은따옴표 3개 사용 시 문자열 데이터를 자유롭게 작성이 가능\n",
    "s = '''여러 줄로 구성된\n",
    "문자열을 하나로 대입할 때'''\n",
    "\n",
    "print(s)"
   ]
  },
  {
   "cell_type": "markdown",
   "metadata": {},
   "source": [
    "## 문자열 인덱싱\n",
    "- 인덱스를 이용해서 특정 문자에 접근"
   ]
  },
  {
   "cell_type": "code",
   "execution_count": 53,
   "metadata": {},
   "outputs": [
    {
     "name": "stdout",
     "output_type": "stream",
     "text": [
      "'노잼'\n",
      "'비추!'\n",
      "노잼\n",
      "비추!\n"
     ]
    }
   ],
   "source": [
    "review = '이 영화는 너무 재미없다 노잼 비추!'\n",
    "\n",
    "#'노잼', '비추!'이라는 단어를 출력\n",
    "print(\"'\"+review[-6]+review[-5]+\"'\")\n",
    "print(\"'\"+review[-3]+review[-2]+review[-1]+\"'\")\n",
    "print(review[-6:-4])\n",
    "print(review[-3:-1]+review[-1])"
   ]
  },
  {
   "cell_type": "code",
   "execution_count": 1,
   "metadata": {},
   "outputs": [
    {
     "name": "stdout",
     "output_type": "stream",
     "text": [
      "M\n",
      "e\n",
      "s\n",
      "s\n",
      "name\n",
      "name\n"
     ]
    }
   ],
   "source": [
    "msg = 'My name is MJ'\n",
    "\n",
    "print(msg[0])\n",
    "print(msg[6])\n",
    "print(msg[9])\n",
    "#음수로 접근\n",
    "print(msg[-4])\n",
    "\n",
    "#n, a, m, e 문자를 접근해서 name으로 출력\n",
    "print(msg[3]+msg[4]+msg[5]+msg[6])\n",
    "print(msg[3:7])"
   ]
  },
  {
   "cell_type": "markdown",
   "metadata": {},
   "source": [
    "## 문자열 슬라이싱\n",
    "- 시작인덱스와 끝 인덱스를 이용해서 특정 문자열을 접근"
   ]
  },
  {
   "cell_type": "code",
   "execution_count": 49,
   "metadata": {},
   "outputs": [
    {
     "name": "stdout",
     "output_type": "stream",
     "text": [
      "name\n",
      "name\n"
     ]
    }
   ],
   "source": [
    "msg = 'My name is MJ'\n",
    "\n",
    "# 문자열 변수명[start : end] : start <= 문자열변수 < end\n",
    "# start : 시작 인덱스\n",
    "# end : 마지막 인덱스\n",
    "\n",
    "print(msg[3]+msg[4]+msg[5]+msg[6])\n",
    "print(msg[3:7]) # 3 <= msg < 7\n",
    "\n",
    "# My name을 출력\n",
    "# print(msg[0:7])\n",
    "print(msg[:7]) #즉, 처음과 끝 부븐은 굳이 숫자를 안써도 됨"
   ]
  },
  {
   "cell_type": "markdown",
   "metadata": {},
   "source": [
    "## 문자열 포맷팅\n",
    "- 문자열 내 특정한 값을 바꿔야 할 때 사용\n",
    "- 1)문자열 포맷팅 코드 활용\n",
    "- 2)문자열 포맷팅 함수 활용"
   ]
  },
  {
   "cell_type": "code",
   "execution_count": 54,
   "metadata": {},
   "outputs": [
    {
     "name": "stdout",
     "output_type": "stream",
     "text": [
      "오늘은 7월 27일입니다.\n"
     ]
    }
   ],
   "source": [
    "s = '오늘은 7월 27일입니다.'\n",
    "print(s)"
   ]
  },
  {
   "cell_type": "code",
   "execution_count": 56,
   "metadata": {},
   "outputs": [
    {
     "name": "stdout",
     "output_type": "stream",
     "text": [
      "오늘은 7월 28일입니다.\n"
     ]
    }
   ],
   "source": [
    "day = 28\n",
    "s = '오늘은 7월 %d일입니다.'%day\n",
    "print(s)"
   ]
  },
  {
   "cell_type": "code",
   "execution_count": 59,
   "metadata": {},
   "outputs": [
    {
     "name": "stdout",
     "output_type": "stream",
     "text": [
      "오늘은(는) 12월 28일입니다.\n"
     ]
    }
   ],
   "source": [
    "date = 28\n",
    "month = 12\n",
    "day = '오늘'\n",
    "s = '%s은(는) %d월 %d일입니다.'%(day, month, date) # d라는 코드가 정수데이터를 넣는 코드, s는 문자열을 넣는 코드\n",
    "print(s)"
   ]
  },
  {
   "cell_type": "code",
   "execution_count": 62,
   "metadata": {
    "scrolled": true
   },
   "outputs": [
    {
     "name": "stdout",
     "output_type": "stream",
     "text": [
      "오늘은(는) 12월 28일입니다.\n"
     ]
    }
   ],
   "source": [
    "# 문자열 포맷팅 함수 이용\n",
    "# 바뀌어야 할 위치를 {}중괄호로 지정하고\n",
    "# format()함수에 입력값을 작성하면 해당 위치에 값이 변경됨\n",
    "date = 28\n",
    "month = 12\n",
    "day = '오늘'\n",
    "s = '{}은(는) {}월 {}일입니다.'.format(day, month, date) # d라는 코드가 정수데이터를 넣는 코드, s는 문자열을 넣는 코드\n",
    "print(s)"
   ]
  },
  {
   "cell_type": "markdown",
   "metadata": {},
   "source": [
    "## 실습5"
   ]
  },
  {
   "cell_type": "code",
   "execution_count": 66,
   "metadata": {},
   "outputs": [
    {
     "name": "stdout",
     "output_type": "stream",
     "text": [
      "100와(과) 200의 합은 300입니다.\n"
     ]
    }
   ],
   "source": [
    "x = 100\n",
    "y = 200\n",
    "sum = x + y\n",
    "print(\"{}와(과) {}의 합은 {}입니다.\".format(x,y,sum))"
   ]
  },
  {
   "cell_type": "markdown",
   "metadata": {},
   "source": [
    "## 문자열 함수 "
   ]
  },
  {
   "cell_type": "code",
   "execution_count": 11,
   "metadata": {},
   "outputs": [
    {
     "name": "stdout",
     "output_type": "stream",
     "text": [
      "12\n",
      "15\n",
      "      Life is short. You need Python.     \n",
      "Life is short. You need Python.\n",
      "Life is long. You need Python.\n",
      "Life is short. You need Python.\n",
      "['Life', 'is', 'short.', 'You', 'need', 'Python.']\n",
      "['Life is short', ' You need Python', '']\n"
     ]
    }
   ],
   "source": [
    "#find()함수 : 찾고자 하는 문자나 단어,문장이 몇번째 인덱스이 있는지 알려줌\n",
    "msg = 'Life is short. You need Python.'\n",
    "print(msg.find('t'))\n",
    "print(msg.find('You need Python'))\n",
    "\n",
    "#strip()함수 : 양쪽 공백을 제거해주는 함수. 데이터 크롤링(수집)할 때 주로 사용\n",
    "msg = '      Life is short. You need Python.     '\n",
    "print(msg)\n",
    "print(msg.strip())\n",
    "\n",
    "#replace(old data, new data)함수 : 기존의 데이터를 새로운 데이터로 대체.\n",
    "msg = 'Life is short. You need Python.'\n",
    "print(msg.replace('short', 'long'))\n",
    "print(msg) #replace함수는 원본 데이터에 영향을 주지 않음. 원본 데이터에 반영하려면?\n",
    "            #msg = msg.replace('short','long')로 반영하면 됨\n",
    "\n",
    "#spliit()함수 : 특정 문자를 기준으로 문자열을 나누는 함수.\n",
    "                #리스트 타입으로 반환(대괄호)\n",
    "print(msg.split(' '))\n",
    "print(msg.split('.'))"
   ]
  },
  {
   "cell_type": "code",
   "execution_count": null,
   "metadata": {},
   "outputs": [],
   "source": []
  },
  {
   "cell_type": "code",
   "execution_count": null,
   "metadata": {},
   "outputs": [],
   "source": []
  },
  {
   "cell_type": "code",
   "execution_count": null,
   "metadata": {},
   "outputs": [],
   "source": []
  },
  {
   "cell_type": "code",
   "execution_count": null,
   "metadata": {},
   "outputs": [],
   "source": []
  }
 ],
 "metadata": {
  "kernelspec": {
   "display_name": "Python 3",
   "language": "python",
   "name": "python3"
  },
  "language_info": {
   "codemirror_mode": {
    "name": "ipython",
    "version": 3
   },
   "file_extension": ".py",
   "mimetype": "text/x-python",
   "name": "python",
   "nbconvert_exporter": "python",
   "pygments_lexer": "ipython3",
   "version": "3.8.3"
  }
 },
 "nbformat": 4,
 "nbformat_minor": 4
}
