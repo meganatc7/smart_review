{
 "cells": [
  {
   "cell_type": "markdown",
   "metadata": {},
   "source": [
    "# 연산자 "
   ]
  },
  {
   "cell_type": "code",
   "execution_count": 1,
   "metadata": {},
   "outputs": [
    {
     "name": "stdout",
     "output_type": "stream",
     "text": [
      "1.4285714285714286\n",
      "3\n",
      "1\n"
     ]
    }
   ],
   "source": [
    "num1 = 10\n",
    "num2 = 7\n",
    "\n",
    "print(num1/num2) #나누기\n",
    "print(num1%num2) #나머지\n",
    "print(num1//num2) #몫"
   ]
  },
  {
   "cell_type": "code",
   "execution_count": 8,
   "metadata": {},
   "outputs": [
    {
     "name": "stdout",
     "output_type": "stream",
     "text": [
      "안녕하세요\n",
      "17\n"
     ]
    }
   ],
   "source": [
    "str1 = '안녕'\n",
    "str2 = '하세요'\n",
    "\n",
    "print(str1 + str2)\n",
    "\n",
    "num1 = 10\n",
    "str1 = '7' \n",
    "#print(num + str) #문자열 + 문자열 연산 X(문자와 숫자는 연산이 불가능) 문자열을 정수로 변환하는 작업이 필요\n",
    "print(num1 + int(str1)) #정수 + 정수 연산"
   ]
  },
  {
   "cell_type": "markdown",
   "metadata": {},
   "source": [
    "## 연산자 실습"
   ]
  },
  {
   "cell_type": "code",
   "execution_count": 21,
   "metadata": {},
   "outputs": [
    {
     "name": "stdout",
     "output_type": "stream",
     "text": [
      "더하기 결과 : 26\n",
      "더하기 결과 : 26\n",
      "빼기 결과 : 20\n",
      "더하기 결과 : 20\n",
      "곱하기 결과 : 69\n",
      "더하기 결과 : 69\n",
      "나누기 결과 : 7.666666666666667\n",
      "더하기 결과 : 7.666666666666667\n"
     ]
    }
   ],
   "source": [
    "num1 = 23\n",
    "num2 = 3\n",
    "print('더하기 결과 :',(num1+num2))\n",
    "print('더하기 결과 : {}'.format(num1+num2))\n",
    "print('빼기 결과 :',(num1 - num2))\n",
    "print('더하기 결과 : {}'.format(num1-num2))\n",
    "print('곱하기 결과 :',(num1*num2))\n",
    "print('더하기 결과 : {}'.format(num1*num2))\n",
    "print('나누기 결과 :',(num1/num2))\n",
    "print('더하기 결과 : {}'.format(num1/num2))"
   ]
  },
  {
   "cell_type": "markdown",
   "metadata": {},
   "source": [
    "##  키보드로 값 입력받기 : input()\n",
    "- 입력받는 모든 값을 문자열로 반환"
   ]
  },
  {
   "cell_type": "code",
   "execution_count": 2,
   "metadata": {},
   "outputs": [
    {
     "name": "stdout",
     "output_type": "stream",
     "text": [
      "정수를 입력해주세요>>5\n"
     ]
    }
   ],
   "source": [
    "num = input('정수를 입력해주세요>>')"
   ]
  },
  {
   "cell_type": "code",
   "execution_count": 5,
   "metadata": {},
   "outputs": [
    {
     "name": "stdout",
     "output_type": "stream",
     "text": [
      "5\n"
     ]
    }
   ],
   "source": [
    "# num변수에 저장된 데이터의 타입은? 문자열\n",
    "# num변수에 저장된 데이터의 타입을 정수로 변환하려면?\n",
    "#- --> int(input()) or int(변수)\n",
    "\n",
    "type(num) #문자열\n",
    "int(num)#정수"
   ]
  },
  {
   "cell_type": "markdown",
   "metadata": {},
   "source": [
    "## 연산자 실습2"
   ]
  },
  {
   "cell_type": "code",
   "execution_count": 52,
   "metadata": {
    "scrolled": true
   },
   "outputs": [
    {
     "name": "stdout",
     "output_type": "stream",
     "text": [
      "정수를 입력하세요 >>3\n",
      "정수를 입력하세요 >>7\n",
      "더하기 결과 : 10\n",
      "빼기 결과 : -4\n",
      "곱하기 결과 : 21\n",
      "나누기 결과 : 0.42857142857142855\n"
     ]
    }
   ],
   "source": [
    "num1 = int(input('정수를 입력하세요 >>'))\n",
    "num2 = int(input('정수를 입력하세요 >>'))\n",
    "\n",
    "print('더하기 결과 : {}'.format(num1+num2))\n",
    "print('빼기 결과 : {}'.format(num1-num2))\n",
    "print('곱하기 결과 : {}'.format(num1*num2))\n",
    "print('나누기 결과 : {}'.format(num1/num2))"
   ]
  },
  {
   "cell_type": "code",
   "execution_count": 59,
   "metadata": {},
   "outputs": [],
   "source": [
    "#아래와 같이 사용할 경우 num1,num2에 반영되지 않음\n",
    "# int(num1)\n",
    "# int(num2)\n",
    "\n",
    "#아래와 같이 사용할 경우 문자열더하기를 한 뒤에 정수로 변환\n",
    "# print('더하기 결과: {}'.format(int(num1+num2)))\n",
    "\n",
    "# 아래와 같이 SyntaxError(문법오류)가 발생한 경우\n",
    "# 중괄화 짝이 맞는지 체크할 것!\n",
    "# print('더하기 결과: {}'.format(int(num1)+int(num2))\n"
   ]
  },
  {
   "cell_type": "markdown",
   "metadata": {},
   "source": [
    "##  연산자 실습3"
   ]
  },
  {
   "cell_type": "code",
   "execution_count": 53,
   "metadata": {},
   "outputs": [
    {
     "name": "stdout",
     "output_type": "stream",
     "text": [
      "python 점수 입력 >>100\n",
      "머신러닝 점수 입력 >>80\n",
      "딥러닝 점수 입력 >>60\n",
      "합계 : 240\n",
      "평균 : 80.0\n"
     ]
    }
   ],
   "source": [
    "num1 = int(input('python 점수 입력 >>'))\n",
    "num2 = int(input('머신러닝 점수 입력 >>'))\n",
    "num3 = int(input('딥러닝 점수 입력 >>'))\n",
    "print('합계 : {}'.format(num1+num2+num3))\n",
    "print('평균 : {}'.format((num1+num2+num3)/3))"
   ]
  },
  {
   "cell_type": "code",
   "execution_count": 57,
   "metadata": {},
   "outputs": [
    {
     "name": "stdout",
     "output_type": "stream",
     "text": [
      "python 점수 입력 >>100\n",
      "머신러닝 점수 입력 >>60\n",
      "딥러닝 점수 입력 >>80\n",
      "합계 : 240\n",
      "평균 : 80.0\n"
     ]
    }
   ],
   "source": [
    "num1 = int(input('python 점수 입력 >>'))\n",
    "num2 = int(input('머신러닝 점수 입력 >>'))\n",
    "num3 = int(input('딥러닝 점수 입력 >>'))\n",
    "#변수를 항상 활용할 것!\n",
    "total = num1 + num2 + num3\n",
    "avg = total/3\n",
    "print('합계 : {}'.format(total))\n",
    "print('평균 : {}'.format(avg))"
   ]
  },
  {
   "cell_type": "code",
   "execution_count": 60,
   "metadata": {},
   "outputs": [
    {
     "name": "stdout",
     "output_type": "stream",
     "text": [
      "pytohonpytohonpytohonpytohonpytohon\n"
     ]
    }
   ],
   "source": [
    "#문자열 곱하기\n",
    "s = 'pytohon'\n",
    "print(s*5)"
   ]
  },
  {
   "cell_type": "code",
   "execution_count": 61,
   "metadata": {},
   "outputs": [
    {
     "name": "stdout",
     "output_type": "stream",
     "text": [
      "8\n"
     ]
    }
   ],
   "source": [
    "#지수 연산\n",
    "#숫자 ** 지수\n",
    "# 2^3\n",
    "\n",
    "result = 2**3\n",
    "\n",
    "print(result)"
   ]
  },
  {
   "cell_type": "markdown",
   "metadata": {},
   "source": [
    "## 치환하는 방법"
   ]
  },
  {
   "cell_type": "code",
   "execution_count": 62,
   "metadata": {},
   "outputs": [
    {
     "name": "stdout",
     "output_type": "stream",
     "text": [
      "10\n",
      "5\n",
      "5\n",
      "10\n"
     ]
    }
   ],
   "source": [
    "# 치환하기\n",
    "num1 = 10\n",
    "num2 = 5\n",
    "\n",
    "print(num1)\n",
    "print(num2)\n",
    "\n",
    "#num1과 num2의 값을 치환하기\n",
    "num1, num2 = num2, num1\n",
    "\n",
    "print(num1)\n",
    "print(num2)"
   ]
  },
  {
   "cell_type": "code",
   "execution_count": 65,
   "metadata": {},
   "outputs": [
    {
     "name": "stdout",
     "output_type": "stream",
     "text": [
      "False\n",
      "True\n",
      "False\n",
      "True\n"
     ]
    }
   ],
   "source": [
    "a=3\n",
    "b=7\n",
    "print(a>b)\n",
    "print(a<=b)\n",
    "print(a==b)\n",
    "print(a!=b)"
   ]
  },
  {
   "cell_type": "markdown",
   "metadata": {},
   "source": [
    "## 삼항연산자\n",
    "- 구조 : true 일 때 if 조건식 else false일 때"
   ]
  },
  {
   "cell_type": "code",
   "execution_count": 69,
   "metadata": {},
   "outputs": [
    {
     "name": "stdout",
     "output_type": "stream",
     "text": [
      "합격\n",
      "불합격\n"
     ]
    }
   ],
   "source": [
    "# score가 60점 이상이면 '합격' 미만이면 '불합격'을 출력\n",
    "score = 80\n",
    "\n",
    "print('합격' if score>=80 else '불합격')\n",
    "\n",
    "score = 50\n",
    "result = '합격' if score>=80 else '불합격' #변수 활용\n",
    "print(result)"
   ]
  },
  {
   "cell_type": "markdown",
   "metadata": {},
   "source": [
    "## 연산자 실습4 "
   ]
  },
  {
   "cell_type": "code",
   "execution_count": 87,
   "metadata": {},
   "outputs": [
    {
     "name": "stdout",
     "output_type": "stream",
     "text": [
      "정수 입력 >>25\n",
      "25 은(는) 홀수입니다\n"
     ]
    }
   ],
   "source": [
    "num = int(input('정수 입력 >>'))\n",
    "result = '{} 은(는) 홀수입니다'.format(num) if num%2 == 1 else '{} 은(는) 짝수입니다.'.format(num)\n",
    "\n",
    "\n",
    "print(result)"
   ]
  },
  {
   "cell_type": "markdown",
   "metadata": {},
   "source": [
    "## 연산자 실습5"
   ]
  },
  {
   "cell_type": "code",
   "execution_count": 90,
   "metadata": {},
   "outputs": [
    {
     "name": "stdout",
     "output_type": "stream",
     "text": [
      "첫 번째 정수 입력 >> 5\n",
      "두 번째 정수 입력 >>10\n",
      "두 수의 차 : 5\n"
     ]
    }
   ],
   "source": [
    "num1 = int(input('첫 번째 정수 입력 >> '))\n",
    "num2 = int(input('두 번째 정수 입력 >>'))\n",
    "\n",
    "result = num1-num2 if num1 >= num2 else num2-num1\n",
    "print('두 수의 차 : {}'.format(result))"
   ]
  },
  {
   "cell_type": "markdown",
   "metadata": {},
   "source": [
    "# 조건문\n",
    "- 종류 : if, if~else, elif"
   ]
  },
  {
   "cell_type": "markdown",
   "metadata": {},
   "source": [
    "단순 if문 구조) <br>\n",
    "if 조건식 : <br>\n",
    "&nbsp;&nbsp;&nbsp;&nbsp;실행문장"
   ]
  },
  {
   "cell_type": "markdown",
   "metadata": {},
   "source": [
    "if-else문 구조) <br>\n",
    "if 조건식 : <br>\n",
    "&nbsp;&nbsp;&nbsp;&nbsp;실행문장<br>\n",
    "else:<br>\n",
    "&nbsp;&nbsp;&nbsp;&nbsp;실행문장"
   ]
  },
  {
   "cell_type": "code",
   "execution_count": 93,
   "metadata": {},
   "outputs": [
    {
     "name": "stdout",
     "output_type": "stream",
     "text": [
      "버스를 탄다\n"
     ]
    }
   ],
   "source": [
    "#돈이 10000원 이상이면 '택시를 탄다'\n",
    "money = 9000\n",
    "\n",
    "if money>=10000:\n",
    "    print('택시를 탄다.')\n",
    "else:\n",
    "    print('버스를 탄다')"
   ]
  },
  {
   "cell_type": "markdown",
   "metadata": {},
   "source": [
    "## 조건문 실습1"
   ]
  },
  {
   "cell_type": "code",
   "execution_count": 100,
   "metadata": {},
   "outputs": [
    {
     "name": "stdout",
     "output_type": "stream",
     "text": [
      "정수 입력 >> 24\n",
      "3과 5의 배수가 아닙니다.\n"
     ]
    }
   ],
   "source": [
    "num = int(input('정수 입력 >> '))\n",
    "if num%3 ==0 and num%5 == 0:\n",
    "    print('3과 5의 배수입니다.')\n",
    "else:\n",
    "    print('3과 5의 배수가 아닙니다.')"
   ]
  },
  {
   "cell_type": "code",
   "execution_count": 99,
   "metadata": {},
   "outputs": [
    {
     "name": "stdout",
     "output_type": "stream",
     "text": [
      "정수 입력 : 25\n",
      "3과 5의 배수가 아닙니다.\n"
     ]
    }
   ],
   "source": [
    "num = int(input('정수 입력 : '))\n",
    "if num%15 == 0:\n",
    "    print('3과 5의 배수입니다.')\n",
    "else:\n",
    "    print('3과 5의 배수가 아닙니다.')"
   ]
  },
  {
   "cell_type": "markdown",
   "metadata": {},
   "source": [
    "## 조건문 실습2"
   ]
  },
  {
   "cell_type": "code",
   "execution_count": 104,
   "metadata": {},
   "outputs": [
    {
     "name": "stdout",
     "output_type": "stream",
     "text": [
      "나이 : 25\n",
      "성인입니다.\n"
     ]
    }
   ],
   "source": [
    "#나이를 입력받아 19세 이상이면 '성인입니다.' 미만이면 '청소년입니다.'\n",
    "age = int(input('나이 : '))\n",
    "if age >= 19:\n",
    "    print('성인입니다.')\n",
    "else:\n",
    "    print('청소년입니다.')"
   ]
  },
  {
   "cell_type": "markdown",
   "metadata": {},
   "source": [
    "elif 구조) <br>\n",
    "if 조건식: <br>\n",
    "&nbsp;&nbsp;&nbsp;&nbsp;&nbsp;실행문장<br>\n",
    "elif 조건식2: <br>\n",
    "&nbsp;&nbsp;&nbsp;&nbsp;&nbsp;실행문장<br>\n",
    "elif 조건식n: <br>\n",
    "....."
   ]
  },
  {
   "cell_type": "code",
   "execution_count": 5,
   "metadata": {},
   "outputs": [
    {
     "name": "stdout",
     "output_type": "stream",
     "text": [
      "첫 번째 정수 입력 >> 7\n",
      "두 번째 정수 입력 >> 7\n",
      "두 수가 똑같습니다.\n"
     ]
    }
   ],
   "source": [
    "num1 = int(input('첫 번째 정수 입력 >> '))\n",
    "num2 = int(input('두 번째 정수 입력 >> '))\n",
    "if num1>num2:\n",
    "    print('첫 번째 정수가 더 큽니다.')\n",
    "elif num1<num2:\n",
    "    print('두 번째 정수가 더 큽니다.')\n",
    "else:\n",
    "    print('두 수가 똑같습니다.')"
   ]
  },
  {
   "cell_type": "code",
   "execution_count": 8,
   "metadata": {},
   "outputs": [
    {
     "name": "stdout",
     "output_type": "stream",
     "text": [
      "점수 입력 >> 70\n",
      "70점은 C학점 입니다.\n"
     ]
    }
   ],
   "source": [
    "score = int(input('점수 입력 >> '))\n",
    "if score>=90 and score<=100:\n",
    "    print('{}점은 A학점 입니다.'.format(score))\n",
    "elif score>=80 and score<90:\n",
    "    print('{}점은 B학점 입니다.'.format(score))\n",
    "elif score>=70 and score<80:\n",
    "    print('{}점은 C학점 입니다.'.format(score))\n",
    "elif score>=60 and score<70:\n",
    "    print('{}점은 D학점 입니다.'.format(score))\n",
    "else:\n",
    "    print('{}점은 F학점 입니다.'.format(score))"
   ]
  },
  {
   "cell_type": "code",
   "execution_count": 9,
   "metadata": {},
   "outputs": [
    {
     "name": "stdout",
     "output_type": "stream",
     "text": [
      "점수 입력 >> 55\n",
      "55점은 F학점 입니다.\n"
     ]
    }
   ],
   "source": [
    "score = int(input('점수 입력 >> '))\n",
    "result = ''\n",
    "\n",
    "if 90 <= score <= 100:\n",
    "    result = 'A'\n",
    "    #print('{}점은 A학점 입니다.'.format(score))\n",
    "elif 80 <= score <90:\n",
    "    result = 'B'\n",
    "    #print('{}점은 B학점 입니다.'.format(score))\n",
    "elif 70 <= score < 80:\n",
    "    result = 'C'\n",
    "    #print('{}점은 C학점 입니다.'.format(score))\n",
    "elif 60 <= score < 70:\n",
    "    result = 'D'\n",
    "    #print('{}점은 D학점 입니다.'.format(score))\n",
    "else:\n",
    "    result = 'F'\n",
    "    #print('{}점은 F학점 입니다.'.format(score))\n",
    "    \n",
    "print('{}점은 {}학점 입니다.'.format(score, result))"
   ]
  },
  {
   "cell_type": "code",
   "execution_count": null,
   "metadata": {},
   "outputs": [],
   "source": []
  },
  {
   "cell_type": "code",
   "execution_count": null,
   "metadata": {},
   "outputs": [],
   "source": []
  }
 ],
 "metadata": {
  "kernelspec": {
   "display_name": "Python 3",
   "language": "python",
   "name": "python3"
  },
  "language_info": {
   "codemirror_mode": {
    "name": "ipython",
    "version": 3
   },
   "file_extension": ".py",
   "mimetype": "text/x-python",
   "name": "python",
   "nbconvert_exporter": "python",
   "pygments_lexer": "ipython3",
   "version": "3.8.7"
  }
 },
 "nbformat": 4,
 "nbformat_minor": 4
}
