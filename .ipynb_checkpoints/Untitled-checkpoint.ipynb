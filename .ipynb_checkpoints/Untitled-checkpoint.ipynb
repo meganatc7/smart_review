{
 "cells": [
  {
   "cell_type": "markdown",
   "id": "northern-register",
   "metadata": {},
   "source": [
    "## 정규표현식?\n",
    "> 특정한 규칙을 가진 문자열의 집합을 표현하는데 사용하는 형식 언어\n",
    "\n",
    "주로 programming언어나 text editor 등 에서 문자열의 검색과 치환을 위한 용도로 사용\n",
    "입력한 문자열에서 특정한 조건을 표현할 경우 일반적인 조건문으로는 다소 복잡할 수 있으나,\n",
    "정규표현식을 이용하면 매우 간단하게 포현할 수 있음.\n",
    "(But 코드가 간단한 만큼 가독성이 떨어져서 표현식을 숙지하지 않으면 이해하기 힘들다는 문제가 있음)\n",
    "\n",
    "정규 표현식에서 사용하는 기호를 Meta문자라고 함.\n",
    "Meta문자는 표현식 내부에서 특정한 의미를 갖는 문자를 말하며, 공통적인 기본 Meta문자의 종류로는\n",
    "- [], \\^, \\t, \\b, \\s, [x-z] 등등\n",
    "\n",
    "'[]'가 붙어있는 모양 자체가 표현식\n",
    "\n",
    "\n"
   ]
  },
  {
   "cell_type": "markdown",
   "id": "lined-singer",
   "metadata": {},
   "source": [
    "파이썬 re 모듈의 메타문자는 총 12개로\n",
    "&()*+.?[\\^{|    가 있음"
   ]
  },
  {
   "cell_type": "code",
   "execution_count": 14,
   "id": "decreased-mexican",
   "metadata": {},
   "outputs": [],
   "source": [
    "import re"
   ]
  },
  {
   "cell_type": "code",
   "execution_count": 13,
   "id": "willing-skiing",
   "metadata": {},
   "outputs": [
    {
     "name": "stdout",
     "output_type": "stream",
     "text": [
      "<re.Match object; span=(0, 1), match='a'>\n",
      "<re.Match object; span=(0, 1), match='a'>\n",
      "None\n",
      "None\n"
     ]
    }
   ],
   "source": [
    "# re.match(pattern, string, flags)\n",
    "# 문자열의 처음부터 시작하여 패턴이 일치되는 것이 있는지 확인\n",
    "matchObj = re.match('a','a')\n",
    "print(matchObj)\n",
    "\n",
    "print(re.match('a','aba'))\n",
    "print(re.match('a','bbb'))\n",
    "print(re.match('a','bba'))"
   ]
  },
  {
   "cell_type": "code",
   "execution_count": 12,
   "id": "regular-evolution",
   "metadata": {
    "scrolled": true
   },
   "outputs": [
    {
     "name": "stdout",
     "output_type": "stream",
     "text": [
      "<re.Match object; span=(0, 1), match='a'>\n",
      "<re.Match object; span=(0, 1), match='a'>\n",
      "None\n",
      "<re.Match object; span=(2, 3), match='a'>\n"
     ]
    }
   ],
   "source": [
    "# re.search(pattern, string, flags)\n",
    "# match와 비슷하지만, 반드시 문자열의 처음부터 일치해야하는 것은 아님\n",
    "matchObj = re.search('a','a')\n",
    "print(matchObj)\n",
    "\n",
    "print(re.search('a','aba'))\n",
    "print(re.search('a','bbb'))\n",
    "print(re.search('a','bba')) # match에서는 뒤에 위치한 a를 못찾았음\n",
    "# span=(2,3)으로 나오는 것은 2번째 문자부터 3번째 문자 전까지 패턴이 매치되었음을 뜻함"
   ]
  },
  {
   "cell_type": "code",
   "execution_count": 19,
   "id": "mechanical-fleet",
   "metadata": {},
   "outputs": [
    {
     "name": "stdout",
     "output_type": "stream",
     "text": [
      "['a']\n",
      "['a', 'a']\n",
      "[]\n",
      "['a']\n",
      "['a', 'a', 'a', 'a']\n",
      "['aa', 'aa']\n",
      "<class 'list'>\n"
     ]
    }
   ],
   "source": [
    "# re.findall(pattern, string, flags)\n",
    "# 문자열 중 패턴과 일치되는 모든 부분을 찾음\n",
    "matchObj = re.findall('a','a')\n",
    "print(matchObj)\n",
    "\n",
    "print(re.findall('a', 'aba'))\n",
    "print(re.findall('a', 'bbb'))\n",
    "print(re.findall('a', 'bba'))\n",
    "print(re.findall('a', 'aaaa'))\n",
    "print(re.findall('aa', 'aaaa')) # 반환 된 리스트가 서로 겹치지 않음\n",
    "print(type(matchObj)) # 리스트 형식으로 해당 문자열에 있는 패턴을 다 찾아옴"
   ]
  },
  {
   "cell_type": "code",
   "execution_count": 21,
   "id": "pointed-apparel",
   "metadata": {
    "scrolled": true
   },
   "outputs": [
    {
     "name": "stdout",
     "output_type": "stream",
     "text": [
      "<callable_iterator object at 0x0000020A94C858B0>\n",
      "<re.Match object; span=(1, 2), match='a'>\n",
      "<re.Match object; span=(2, 3), match='a'>\n"
     ]
    }
   ],
   "source": [
    "# re.finditer(pattern, string, flags)\n",
    "# 일치된 문자열의 리스트 대신 matchObj리스트를 반환\n",
    "matchObj_iter = re.finditer('a', 'baa')\n",
    "print(matchObj_iter)\n",
    "\n",
    "for matchObj in matchObj_iter:\n",
    "    print(matchObj) # 각각 매치된 횟수? 및 인덱스?"
   ]
  },
  {
   "cell_type": "code",
   "execution_count": 23,
   "id": "sacred-railway",
   "metadata": {
    "collapsed": true
   },
   "outputs": [
    {
     "name": "stdout",
     "output_type": "stream",
     "text": [
      "<re.Match object; span=(0, 1), match='a'>\n",
      "None\n",
      "None\n",
      "None\n",
      "None\n"
     ]
    }
   ],
   "source": [
    "#re.fullmatch(pattern, string, flags)\n",
    "# 패턴과 문자열이 남는 부분 없이 완벽하게 일치하는지 검사\n",
    "matchObj = re.fullmatch('a','a')\n",
    "print(matchObj)\n",
    "\n",
    "print(re.fullmatch('a','aba'))\n",
    "print(re.fullmatch('a','bbb'))\n",
    "print(re.fullmatch('a','baa'))\n",
    "print(re.fullmatch('aa','aaaa'))"
   ]
  },
  {
   "cell_type": "markdown",
   "id": "amended-museum",
   "metadata": {},
   "source": [
    "`match Object의 메서드들`\n",
    "\n",
    "match Object를 그대로 출력해서 쓰고 싶은 사람은 별로 없을 것이다. re.match 등의 결과로 얻은 matchObj를 활용하는 방법을 정리하면 다음과 같다.\n",
    "\n",
    "Method\tDescrption\n",
    "- group()\t일치된 문자열을 반환한다.\n",
    "- start()\t일치된 문자열의 시작 위치를 반환한다.\n",
    "- end()\t일치된 문자열의 끝 위치를 반환한다.\n",
    "- span()\t일치된 문자열의 (시작 위치, 끝 위치) 튜플을 반환한다."
   ]
  },
  {
   "cell_type": "code",
   "execution_count": 24,
   "id": "integrated-preliminary",
   "metadata": {},
   "outputs": [
    {
     "name": "stdout",
     "output_type": "stream",
     "text": [
      "<re.Match object; span=(1, 6), match='match'>\n",
      "match\n",
      "1\n",
      "6\n",
      "(1, 6)\n"
     ]
    }
   ],
   "source": [
    "matchObj = re.search('match', \"'matchObj' is a good name, but 'm' is convenient.\")\n",
    "print(matchObj)\n",
    "\n",
    "print(matchObj.group())\n",
    "print(matchObj.start())\n",
    "print(matchObj.end())\n",
    "print(matchObj.span())"
   ]
  },
  {
   "cell_type": "code",
   "execution_count": 29,
   "id": "central-rapid",
   "metadata": {},
   "outputs": [
    {
     "name": "stdout",
     "output_type": "stream",
     "text": [
      "['\\t', '\\t', '\\t', '\\t']\n"
     ]
    }
   ],
   "source": [
    "# 비인쇄 문자\n",
    "# \\a \\e \\f \\n \\r \\t \\v\n",
    "matchObj = re.findall('\\t','a\\tb\\tc \\t \\t d')\n",
    "print(matchObj)"
   ]
  },
  {
   "cell_type": "markdown",
   "id": "therapeutic-verse",
   "metadata": {},
   "source": [
    " 이스케이프\n",
    " > 이스케이프 문자 \\는 메타문자를 리터럴 문자로 취급하게끔 해줌\n",
    " ex) [는 메타문자이지만, \\[ 하게 되면 리터럴 문자인 일반 대괄호 문자와 매칭될 수 있게 됨"
   ]
  },
  {
   "cell_type": "markdown",
   "id": "powered-example",
   "metadata": {},
   "source": [
    "`[]대괄호 : 여러 문자 중 하나와 일치`\n",
    "- 대괄호 사이에 원하는 문자를 여러 개 넣으면 문자열이 넣은 문자 중 하나와 일치하면 매칭이 이루어짐(or의 개념)"
   ]
  },
  {
   "cell_type": "code",
   "execution_count": 31,
   "id": "skilled-haven",
   "metadata": {},
   "outputs": [
    {
     "name": "stdout",
     "output_type": "stream",
     "text": [
      "<re.Match object; span=(0, 26), match='You;re studying re module,'>\n"
     ]
    }
   ],
   "source": [
    "matchObj = re.fullmatch(\"You[;']re studying re module[.,]\", \\\n",
    "                        'You;re studying re module,')\n",
    "print(matchObj) # [;']이니까 ;과 '가 있어도 일치가 됨 (사용자의 오타를 잡기 괜찮은 기능)"
   ]
  },
  {
   "cell_type": "code",
   "execution_count": 33,
   "id": "dirty-workstation",
   "metadata": {},
   "outputs": [
    {
     "name": "stdout",
     "output_type": "stream",
     "text": [
      "<re.Match object; span=(0, 15), match='Why so serious?'>\n",
      "<re.Match object; span=(0, 15), match='Why so serious?'>\n"
     ]
    }
   ],
   "source": [
    "# -는 대괄호 안에서 메타문자 역할을 함\n",
    "# 범위를 형성함 [A-z] 보다는 [A-Za-z]로 사용하길 권장한다.\n",
    "# 참고로 대괄호 안에서 메타문자 역할을 하는 건 오직 \\,^,-,] 4개 뿐\n",
    "\n",
    "matchObj = re.search('Why [a-z]o serious\\?', 'Why so serious?')\n",
    "print(matchObj)\n",
    "matchObj = re.search('Why [^0-9]o serious\\?', 'Why so serious?')\n",
    "print(matchObj) #[^0-9] 는 숫자를 제외한 문자 하나에 일치되므로, s는 숫자가 아니기에 매칭이 된 것"
   ]
  },
  {
   "cell_type": "markdown",
   "id": "noble-peoples",
   "metadata": {},
   "source": [
    "- -의 다른 기능으로는 차집합 연산\n",
    "- [a-z-[g-z]] 하면 a-f와 같은 의미"
   ]
  },
  {
   "cell_type": "code",
   "execution_count": 35,
   "id": "psychological-request",
   "metadata": {},
   "outputs": [
    {
     "name": "stdout",
     "output_type": "stream",
     "text": [
      "['ryan.']\n"
     ]
    }
   ],
   "source": [
    "# .마침표 : 모든 문자와 일치\n",
    "# 개행문자를 제외한 모든 문자와 일치하는 정규표현식은 마침표\n",
    "matchObj = re.findall('r..n[.]', 'ryan. ruin rain round. reign')\n",
    "print(matchObj) # 대괄호 안에서는 마침표가 메타문자로 동작하지 않음"
   ]
  },
  {
   "cell_type": "markdown",
   "id": "expired-suggestion",
   "metadata": {},
   "source": [
    "`flags`\n",
    "- re.I\tre.IGNORECASE\t(?i)\t대소문자 구분 없이 일치\n",
    "- re.M\tre.MULTILINE\t(?m)\t^와 $는 개행문자 위치에서 일치\n",
    "- re.S\tre.DOTALL\t(?s)\t마침표는 개행문자와 일치\n",
    "- re.A\tre.ASCII\t(?a)\t{\\w, \\W, \\b, \\B}는 ascii에만 일치\n",
    "- re.U\tre.UNICODE\t(?u)\t{\\w, \\W, \\b, \\B}는 Unicode에 일치\n",
    "- re.L\tre.LOCALE\t(?L)\t{\\w, \\W, \\b, \\B}는 locale dependent\n",
    "- re.X\tre.VERBOSE\t(?x)\t정규표현식에 주석을 달 수 있음"
   ]
  },
  {
   "cell_type": "code",
   "execution_count": 36,
   "id": "afraid-welding",
   "metadata": {},
   "outputs": [
    {
     "name": "stdout",
     "output_type": "stream",
     "text": [
      "['abc', 'a  ']\n",
      "['abc', 'a  ', 'a\\na']\n",
      "['abc', 'a  ', 'a\\na']\n"
     ]
    }
   ],
   "source": [
    "# re.S : 마침표는 개행문자와 일치\n",
    "print(re.findall('a..', 'abc a  a\\na'))\n",
    "print(re.findall('a..', 'abc a  a\\na', re.S))\n",
    "print(re.findall('a..', 'abc a  a\\na', re.DOTALL))\n",
    "# 개행 문자도 마침표에 일치되는지를 설정할 수 있음"
   ]
  },
  {
   "cell_type": "markdown",
   "id": "confidential-netscape",
   "metadata": {},
   "source": [
    "`문자집합: \\w \\W, \\d \\D, \\s \\S, \\b \\B`"
   ]
  },
  {
   "cell_type": "code",
   "execution_count": 37,
   "id": "broadband-advocate",
   "metadata": {},
   "outputs": [
    {
     "name": "stdout",
     "output_type": "stream",
     "text": [
      "<re.Match object; span=(0, 3), match='a_가'>\n",
      "['a a']\n"
     ]
    }
   ],
   "source": [
    "# \\w, \\W: 단어 문자, 비 단어 문자\n",
    "# \\w는 단어문자 1개와 일치(영 대소문자, 숫자, 언더바 포함)\n",
    "# \\W는 단어 이외의 문자 1개에 일치(공백, 특수문자 등)\n",
    "matchObj = re.search('\\w\\w\\w', 'a_가')\n",
    "print(matchObj)\n",
    "matchObj = re.findall('\\w\\W\\w', 'a (9_a a')\n",
    "print(matchObj)"
   ]
  },
  {
   "cell_type": "code",
   "execution_count": 38,
   "id": "bottom-retention",
   "metadata": {},
   "outputs": [
    {
     "name": "stdout",
     "output_type": "stream",
     "text": [
      "<re.Match object; span=(0, 2), match='12'>\n",
      "['11aa']\n"
     ]
    }
   ],
   "source": [
    "# \\d는 숫자문자 1개에 일치\n",
    "# \\D는 비 숫자 문자 1개에 일치\n",
    "matchObj = re.search('\\d\\d', '12abc34')\n",
    "print(matchObj)\n",
    "matchObj = re.findall('\\d\\d\\D\\D', '11aa11c1')\n",
    "print(matchObj)"
   ]
  },
  {
   "cell_type": "code",
   "execution_count": 39,
   "id": "acoustic-lingerie",
   "metadata": {
    "scrolled": true
   },
   "outputs": [
    {
     "name": "stdout",
     "output_type": "stream",
     "text": [
      "<re.Match object; span=(0, 11), match='Oh my\\tgod\\n!'>\n"
     ]
    }
   ],
   "source": [
    "# \\s는 공백 문자에 일치\n",
    "# \\S는 비 공백 문자에 일치\n",
    "matchObj = re.search(\n",
    "    'Oh\\smy\\sgod\\s\\S',\n",
    "    '''Oh my\\tgod\n",
    "!''')\n",
    "print(matchObj)"
   ]
  },
  {
   "cell_type": "code",
   "execution_count": 40,
   "id": "coastal-corruption",
   "metadata": {},
   "outputs": [
    {
     "name": "stdout",
     "output_type": "stream",
     "text": [
      "['b ', 'd ', 'e=']\n"
     ]
    }
   ],
   "source": [
    "# \\b는 문자 하나와 일치되는 것이 아니라 단어 경계와 일치(단어 문자와 비 단어 문자 사이)\n",
    "# ]B는 단어 문자와 단어문자 혹은 비단어문자와 비단어문자 사이와 일치\n",
    "matchObj = re.findall(r'\\w\\b\\W\\B', 'ab  c d  == = e= =f')\n",
    "print(matchObj)"
   ]
  }
 ],
 "metadata": {
  "kernelspec": {
   "display_name": "Python 3",
   "language": "python",
   "name": "python3"
  },
  "language_info": {
   "codemirror_mode": {
    "name": "ipython",
    "version": 3
   },
   "file_extension": ".py",
   "mimetype": "text/x-python",
   "name": "python",
   "nbconvert_exporter": "python",
   "pygments_lexer": "ipython3",
   "version": "3.8.7"
  },
  "toc": {
   "base_numbering": 1,
   "nav_menu": {},
   "number_sections": true,
   "sideBar": true,
   "skip_h1_title": false,
   "title_cell": "Table of Contents",
   "title_sidebar": "Contents",
   "toc_cell": false,
   "toc_position": {},
   "toc_section_display": true,
   "toc_window_display": false
  }
 },
 "nbformat": 4,
 "nbformat_minor": 5
}
